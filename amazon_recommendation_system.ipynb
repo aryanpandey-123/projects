{
  "cells": [
    {
      "cell_type": "markdown",
      "metadata": {
        "id": "view-in-github",
        "colab_type": "text"
      },
      "source": [
        "<a href=\"https://colab.research.google.com/github/aryanpandey-123/projects/blob/Minor_Project/amazon_recommendation_system.ipynb\" target=\"_parent\"><img src=\"https://colab.research.google.com/assets/colab-badge.svg\" alt=\"Open In Colab\"/></a>"
      ]
    },
    {
      "cell_type": "code",
      "source": [
        "from google.colab import drive\n",
        "drive.mount('/content/drive')"
      ],
      "metadata": {
        "colab": {
          "base_uri": "https://localhost:8080/"
        },
        "id": "n88XP3seesJ-",
        "outputId": "87182f97-cecd-4ef7-b469-664072a81e30"
      },
      "execution_count": 1,
      "outputs": [
        {
          "output_type": "stream",
          "name": "stdout",
          "text": [
            "Mounted at /content/drive\n"
          ]
        }
      ]
    },
    {
      "cell_type": "code",
      "execution_count": 4,
      "metadata": {
        "id": "pJK16CeyebaT"
      },
      "outputs": [],
      "source": [
        "%matplotlib inline\n",
        "import pandas as pd\n",
        "import numpy as np\n",
        "import matplotlib.pyplot as plt\n",
        "import time\n",
        "import os\n",
        "import seaborn as sns\n",
        "from sklearn.model_selection import train_test_split\n",
        "import gzip"
      ]
    },
    {
      "cell_type": "code",
      "execution_count": 5,
      "metadata": {
        "id": "ITj6WNPfebaW"
      },
      "outputs": [],
      "source": [
        "import dask as dd"
      ]
    },
    {
      "cell_type": "code",
      "execution_count": 6,
      "metadata": {
        "id": "NU8nDc6SebaW"
      },
      "outputs": [],
      "source": [
        "\n",
        "def parse(path):\n",
        "  g = gzip.open(path, 'rb')\n",
        "  for l in g:\n",
        "    yield eval(l)\n",
        "\n",
        "def getDF(path):\n",
        "  i = 0\n",
        "  df = {}\n",
        "  for d in parse(path):\n",
        "    df[i] = d\n",
        "    i += 1\n",
        "  return pd.DataFrame.from_dict(df, orient='index')\n",
        "\n",
        "dfmeta = getDF('/content/drive/MyDrive/meta_Electronics.json.gz')"
      ]
    },
    {
      "cell_type": "code",
      "execution_count": null,
      "metadata": {
        "id": "zHq7Nx8pebaX",
        "outputId": "86bd111b-889f-4be4-ec23-c44ab946f9c6"
      },
      "outputs": [
        {
          "data": {
            "text/html": [
              "<div>\n",
              "<style scoped>\n",
              "    .dataframe tbody tr th:only-of-type {\n",
              "        vertical-align: middle;\n",
              "    }\n",
              "\n",
              "    .dataframe tbody tr th {\n",
              "        vertical-align: top;\n",
              "    }\n",
              "\n",
              "    .dataframe thead th {\n",
              "        text-align: right;\n",
              "    }\n",
              "</style>\n",
              "<table border=\"1\" class=\"dataframe\">\n",
              "  <thead>\n",
              "    <tr style=\"text-align: right;\">\n",
              "      <th></th>\n",
              "      <th>asin</th>\n",
              "      <th>imUrl</th>\n",
              "      <th>description</th>\n",
              "      <th>categories</th>\n",
              "      <th>title</th>\n",
              "      <th>price</th>\n",
              "      <th>salesRank</th>\n",
              "      <th>related</th>\n",
              "      <th>brand</th>\n",
              "    </tr>\n",
              "  </thead>\n",
              "  <tbody>\n",
              "    <tr>\n",
              "      <th>0</th>\n",
              "      <td>0132793040</td>\n",
              "      <td>http://ecx.images-amazon.com/images/I/31JIPhp%...</td>\n",
              "      <td>The Kelby Training DVD Mastering Blend Modes i...</td>\n",
              "      <td>[[Electronics, Computers &amp; Accessories, Cables...</td>\n",
              "      <td>Kelby Training DVD: Mastering Blend Modes in A...</td>\n",
              "      <td>NaN</td>\n",
              "      <td>NaN</td>\n",
              "      <td>NaN</td>\n",
              "      <td>NaN</td>\n",
              "    </tr>\n",
              "    <tr>\n",
              "      <th>1</th>\n",
              "      <td>0321732944</td>\n",
              "      <td>http://ecx.images-amazon.com/images/I/31uogm6Y...</td>\n",
              "      <td>NaN</td>\n",
              "      <td>[[Electronics, Computers &amp; Accessories, Cables...</td>\n",
              "      <td>Kelby Training DVD: Adobe Photoshop CS5 Crash ...</td>\n",
              "      <td>NaN</td>\n",
              "      <td>NaN</td>\n",
              "      <td>NaN</td>\n",
              "      <td>NaN</td>\n",
              "    </tr>\n",
              "    <tr>\n",
              "      <th>2</th>\n",
              "      <td>0439886341</td>\n",
              "      <td>http://ecx.images-amazon.com/images/I/51k0qa8f...</td>\n",
              "      <td>Digital Organizer and Messenger</td>\n",
              "      <td>[[Electronics, Computers &amp; Accessories, PDAs, ...</td>\n",
              "      <td>Digital Organizer and Messenger</td>\n",
              "      <td>8.15</td>\n",
              "      <td>{'Electronics': 144944}</td>\n",
              "      <td>{'also_viewed': ['0545016266', 'B009ECM8QY', '...</td>\n",
              "      <td>NaN</td>\n",
              "    </tr>\n",
              "    <tr>\n",
              "      <th>3</th>\n",
              "      <td>0511189877</td>\n",
              "      <td>http://ecx.images-amazon.com/images/I/41HaAhbv...</td>\n",
              "      <td>The CLIKR-5 UR5U-8780L remote control is desig...</td>\n",
              "      <td>[[Electronics, Accessories &amp; Supplies, Audio &amp;...</td>\n",
              "      <td>CLIKR-5 Time Warner Cable Remote Control UR5U-...</td>\n",
              "      <td>23.36</td>\n",
              "      <td>NaN</td>\n",
              "      <td>{'also_viewed': ['B001KC08A4', 'B00KUL8O0W', '...</td>\n",
              "      <td>NaN</td>\n",
              "    </tr>\n",
              "    <tr>\n",
              "      <th>4</th>\n",
              "      <td>0528881469</td>\n",
              "      <td>http://ecx.images-amazon.com/images/I/51FnRkJq...</td>\n",
              "      <td>Like its award-winning predecessor, the Intell...</td>\n",
              "      <td>[[Electronics, GPS &amp; Navigation, Vehicle GPS, ...</td>\n",
              "      <td>Rand McNally 528881469 7-inch Intelliroute TND...</td>\n",
              "      <td>299.99</td>\n",
              "      <td>NaN</td>\n",
              "      <td>{'also_viewed': ['B006ZOI9OY', 'B00C7FKT2A', '...</td>\n",
              "      <td>NaN</td>\n",
              "    </tr>\n",
              "  </tbody>\n",
              "</table>\n",
              "</div>"
            ],
            "text/plain": [
              "         asin                                              imUrl  \\\n",
              "0  0132793040  http://ecx.images-amazon.com/images/I/31JIPhp%...   \n",
              "1  0321732944  http://ecx.images-amazon.com/images/I/31uogm6Y...   \n",
              "2  0439886341  http://ecx.images-amazon.com/images/I/51k0qa8f...   \n",
              "3  0511189877  http://ecx.images-amazon.com/images/I/41HaAhbv...   \n",
              "4  0528881469  http://ecx.images-amazon.com/images/I/51FnRkJq...   \n",
              "\n",
              "                                         description  \\\n",
              "0  The Kelby Training DVD Mastering Blend Modes i...   \n",
              "1                                                NaN   \n",
              "2                    Digital Organizer and Messenger   \n",
              "3  The CLIKR-5 UR5U-8780L remote control is desig...   \n",
              "4  Like its award-winning predecessor, the Intell...   \n",
              "\n",
              "                                          categories  \\\n",
              "0  [[Electronics, Computers & Accessories, Cables...   \n",
              "1  [[Electronics, Computers & Accessories, Cables...   \n",
              "2  [[Electronics, Computers & Accessories, PDAs, ...   \n",
              "3  [[Electronics, Accessories & Supplies, Audio &...   \n",
              "4  [[Electronics, GPS & Navigation, Vehicle GPS, ...   \n",
              "\n",
              "                                               title   price  \\\n",
              "0  Kelby Training DVD: Mastering Blend Modes in A...     NaN   \n",
              "1  Kelby Training DVD: Adobe Photoshop CS5 Crash ...     NaN   \n",
              "2                    Digital Organizer and Messenger    8.15   \n",
              "3  CLIKR-5 Time Warner Cable Remote Control UR5U-...   23.36   \n",
              "4  Rand McNally 528881469 7-inch Intelliroute TND...  299.99   \n",
              "\n",
              "                 salesRank                                            related  \\\n",
              "0                      NaN                                                NaN   \n",
              "1                      NaN                                                NaN   \n",
              "2  {'Electronics': 144944}  {'also_viewed': ['0545016266', 'B009ECM8QY', '...   \n",
              "3                      NaN  {'also_viewed': ['B001KC08A4', 'B00KUL8O0W', '...   \n",
              "4                      NaN  {'also_viewed': ['B006ZOI9OY', 'B00C7FKT2A', '...   \n",
              "\n",
              "  brand  \n",
              "0   NaN  \n",
              "1   NaN  \n",
              "2   NaN  \n",
              "3   NaN  \n",
              "4   NaN  "
            ]
          },
          "execution_count": 26,
          "metadata": {},
          "output_type": "execute_result"
        }
      ],
      "source": [
        "dfmeta.head()"
      ]
    },
    {
      "cell_type": "code",
      "execution_count": null,
      "metadata": {
        "id": "ADizzGD9ebaY",
        "outputId": "97f28d88-0ee0-4768-faea-1e8303ece1cd"
      },
      "outputs": [
        {
          "data": {
            "text/plain": [
              "(498196, 9)"
            ]
          },
          "execution_count": 27,
          "metadata": {},
          "output_type": "execute_result"
        }
      ],
      "source": [
        "dfmeta.shape"
      ]
    },
    {
      "cell_type": "code",
      "execution_count": null,
      "metadata": {
        "id": "F9uUs--mebaY"
      },
      "outputs": [],
      "source": [
        "dfreviews=pd.read_csv('/content/drive/MyDrive/ratings_Electronics.csv', header=None,sep=',')\n",
        "\n"
      ]
    },
    {
      "cell_type": "code",
      "execution_count": null,
      "metadata": {
        "id": "292pC5UTebaZ",
        "outputId": "3eb537dd-157c-46ae-b624-a507c4e8e143"
      },
      "outputs": [
        {
          "data": {
            "text/html": [
              "<div>\n",
              "<style scoped>\n",
              "    .dataframe tbody tr th:only-of-type {\n",
              "        vertical-align: middle;\n",
              "    }\n",
              "\n",
              "    .dataframe tbody tr th {\n",
              "        vertical-align: top;\n",
              "    }\n",
              "\n",
              "    .dataframe thead th {\n",
              "        text-align: right;\n",
              "    }\n",
              "</style>\n",
              "<table border=\"1\" class=\"dataframe\">\n",
              "  <thead>\n",
              "    <tr style=\"text-align: right;\">\n",
              "      <th></th>\n",
              "      <th>0</th>\n",
              "      <th>1</th>\n",
              "      <th>2</th>\n",
              "      <th>3</th>\n",
              "    </tr>\n",
              "  </thead>\n",
              "  <tbody>\n",
              "    <tr>\n",
              "      <th>0</th>\n",
              "      <td>AKM1MP6P0OYPR</td>\n",
              "      <td>0132793040</td>\n",
              "      <td>5.0</td>\n",
              "      <td>1365811200</td>\n",
              "    </tr>\n",
              "    <tr>\n",
              "      <th>1</th>\n",
              "      <td>A2CX7LUOHB2NDG</td>\n",
              "      <td>0321732944</td>\n",
              "      <td>5.0</td>\n",
              "      <td>1341100800</td>\n",
              "    </tr>\n",
              "    <tr>\n",
              "      <th>2</th>\n",
              "      <td>A2NWSAGRHCP8N5</td>\n",
              "      <td>0439886341</td>\n",
              "      <td>1.0</td>\n",
              "      <td>1367193600</td>\n",
              "    </tr>\n",
              "    <tr>\n",
              "      <th>3</th>\n",
              "      <td>A2WNBOD3WNDNKT</td>\n",
              "      <td>0439886341</td>\n",
              "      <td>3.0</td>\n",
              "      <td>1374451200</td>\n",
              "    </tr>\n",
              "    <tr>\n",
              "      <th>4</th>\n",
              "      <td>A1GI0U4ZRJA8WN</td>\n",
              "      <td>0439886341</td>\n",
              "      <td>1.0</td>\n",
              "      <td>1334707200</td>\n",
              "    </tr>\n",
              "  </tbody>\n",
              "</table>\n",
              "</div>"
            ],
            "text/plain": [
              "                0           1    2           3\n",
              "0   AKM1MP6P0OYPR  0132793040  5.0  1365811200\n",
              "1  A2CX7LUOHB2NDG  0321732944  5.0  1341100800\n",
              "2  A2NWSAGRHCP8N5  0439886341  1.0  1367193600\n",
              "3  A2WNBOD3WNDNKT  0439886341  3.0  1374451200\n",
              "4  A1GI0U4ZRJA8WN  0439886341  1.0  1334707200"
            ]
          },
          "execution_count": 18,
          "metadata": {},
          "output_type": "execute_result"
        }
      ],
      "source": [
        "dfreviews.head()"
      ]
    },
    {
      "cell_type": "code",
      "execution_count": null,
      "metadata": {
        "id": "CWVeRr6sebaZ",
        "outputId": "44c8e148-5c05-41a0-e72a-0e047040197d"
      },
      "outputs": [
        {
          "data": {
            "text/html": [
              "<div>\n",
              "<style scoped>\n",
              "    .dataframe tbody tr th:only-of-type {\n",
              "        vertical-align: middle;\n",
              "    }\n",
              "\n",
              "    .dataframe tbody tr th {\n",
              "        vertical-align: top;\n",
              "    }\n",
              "\n",
              "    .dataframe thead th {\n",
              "        text-align: right;\n",
              "    }\n",
              "</style>\n",
              "<table border=\"1\" class=\"dataframe\">\n",
              "  <thead>\n",
              "    <tr style=\"text-align: right;\">\n",
              "      <th></th>\n",
              "      <th>reviewerID</th>\n",
              "      <th>asin</th>\n",
              "      <th>overall</th>\n",
              "      <th>timestamp</th>\n",
              "    </tr>\n",
              "  </thead>\n",
              "  <tbody>\n",
              "    <tr>\n",
              "      <th>0</th>\n",
              "      <td>AKM1MP6P0OYPR</td>\n",
              "      <td>0132793040</td>\n",
              "      <td>5.0</td>\n",
              "      <td>1365811200</td>\n",
              "    </tr>\n",
              "    <tr>\n",
              "      <th>1</th>\n",
              "      <td>A2CX7LUOHB2NDG</td>\n",
              "      <td>0321732944</td>\n",
              "      <td>5.0</td>\n",
              "      <td>1341100800</td>\n",
              "    </tr>\n",
              "    <tr>\n",
              "      <th>2</th>\n",
              "      <td>A2NWSAGRHCP8N5</td>\n",
              "      <td>0439886341</td>\n",
              "      <td>1.0</td>\n",
              "      <td>1367193600</td>\n",
              "    </tr>\n",
              "    <tr>\n",
              "      <th>3</th>\n",
              "      <td>A2WNBOD3WNDNKT</td>\n",
              "      <td>0439886341</td>\n",
              "      <td>3.0</td>\n",
              "      <td>1374451200</td>\n",
              "    </tr>\n",
              "    <tr>\n",
              "      <th>4</th>\n",
              "      <td>A1GI0U4ZRJA8WN</td>\n",
              "      <td>0439886341</td>\n",
              "      <td>1.0</td>\n",
              "      <td>1334707200</td>\n",
              "    </tr>\n",
              "  </tbody>\n",
              "</table>\n",
              "</div>"
            ],
            "text/plain": [
              "       reviewerID        asin  overall   timestamp\n",
              "0   AKM1MP6P0OYPR  0132793040      5.0  1365811200\n",
              "1  A2CX7LUOHB2NDG  0321732944      5.0  1341100800\n",
              "2  A2NWSAGRHCP8N5  0439886341      1.0  1367193600\n",
              "3  A2WNBOD3WNDNKT  0439886341      3.0  1374451200\n",
              "4  A1GI0U4ZRJA8WN  0439886341      1.0  1334707200"
            ]
          },
          "execution_count": 20,
          "metadata": {},
          "output_type": "execute_result"
        }
      ],
      "source": [
        "dfreviews.columns = [\"reviewerID\", \"asin\",\"overall\",\"timestamp\"]\n",
        "dfreviews.head()"
      ]
    },
    {
      "cell_type": "code",
      "execution_count": null,
      "metadata": {
        "id": "qKUWWs_Pebaa",
        "outputId": "722a026a-a5a4-4be7-a85a-15619f8d16d7"
      },
      "outputs": [
        {
          "data": {
            "text/plain": [
              "(7824482, 4)"
            ]
          },
          "execution_count": 21,
          "metadata": {},
          "output_type": "execute_result"
        }
      ],
      "source": [
        "dfreviews.shape"
      ]
    },
    {
      "cell_type": "code",
      "execution_count": null,
      "metadata": {
        "id": "w11C6ibCebab"
      },
      "outputs": [],
      "source": [
        "product_ratings=pd.merge(dfreviews,dfmeta,on='asin',how='inner')"
      ]
    },
    {
      "cell_type": "code",
      "execution_count": null,
      "metadata": {
        "id": "WWlYxFxgebab",
        "outputId": "feaff85d-495a-4470-bc91-5ca7b0ec4487"
      },
      "outputs": [
        {
          "data": {
            "text/html": [
              "<div>\n",
              "<style scoped>\n",
              "    .dataframe tbody tr th:only-of-type {\n",
              "        vertical-align: middle;\n",
              "    }\n",
              "\n",
              "    .dataframe tbody tr th {\n",
              "        vertical-align: top;\n",
              "    }\n",
              "\n",
              "    .dataframe thead th {\n",
              "        text-align: right;\n",
              "    }\n",
              "</style>\n",
              "<table border=\"1\" class=\"dataframe\">\n",
              "  <thead>\n",
              "    <tr style=\"text-align: right;\">\n",
              "      <th></th>\n",
              "      <th>reviewerID</th>\n",
              "      <th>asin</th>\n",
              "      <th>overall</th>\n",
              "      <th>timestamp</th>\n",
              "      <th>imUrl</th>\n",
              "      <th>description</th>\n",
              "      <th>categories</th>\n",
              "      <th>title</th>\n",
              "      <th>price</th>\n",
              "      <th>salesRank</th>\n",
              "      <th>related</th>\n",
              "      <th>brand</th>\n",
              "    </tr>\n",
              "  </thead>\n",
              "  <tbody>\n",
              "    <tr>\n",
              "      <th>0</th>\n",
              "      <td>AKM1MP6P0OYPR</td>\n",
              "      <td>0132793040</td>\n",
              "      <td>5.0</td>\n",
              "      <td>1365811200</td>\n",
              "      <td>http://ecx.images-amazon.com/images/I/31JIPhp%...</td>\n",
              "      <td>The Kelby Training DVD Mastering Blend Modes i...</td>\n",
              "      <td>[[Electronics, Computers &amp; Accessories, Cables...</td>\n",
              "      <td>Kelby Training DVD: Mastering Blend Modes in A...</td>\n",
              "      <td>NaN</td>\n",
              "      <td>NaN</td>\n",
              "      <td>NaN</td>\n",
              "      <td>NaN</td>\n",
              "    </tr>\n",
              "    <tr>\n",
              "      <th>1</th>\n",
              "      <td>A2CX7LUOHB2NDG</td>\n",
              "      <td>0321732944</td>\n",
              "      <td>5.0</td>\n",
              "      <td>1341100800</td>\n",
              "      <td>http://ecx.images-amazon.com/images/I/31uogm6Y...</td>\n",
              "      <td>NaN</td>\n",
              "      <td>[[Electronics, Computers &amp; Accessories, Cables...</td>\n",
              "      <td>Kelby Training DVD: Adobe Photoshop CS5 Crash ...</td>\n",
              "      <td>NaN</td>\n",
              "      <td>NaN</td>\n",
              "      <td>NaN</td>\n",
              "      <td>NaN</td>\n",
              "    </tr>\n",
              "    <tr>\n",
              "      <th>2</th>\n",
              "      <td>A2NWSAGRHCP8N5</td>\n",
              "      <td>0439886341</td>\n",
              "      <td>1.0</td>\n",
              "      <td>1367193600</td>\n",
              "      <td>http://ecx.images-amazon.com/images/I/51k0qa8f...</td>\n",
              "      <td>Digital Organizer and Messenger</td>\n",
              "      <td>[[Electronics, Computers &amp; Accessories, PDAs, ...</td>\n",
              "      <td>Digital Organizer and Messenger</td>\n",
              "      <td>8.15</td>\n",
              "      <td>{'Electronics': 144944}</td>\n",
              "      <td>{'also_viewed': ['0545016266', 'B009ECM8QY', '...</td>\n",
              "      <td>NaN</td>\n",
              "    </tr>\n",
              "    <tr>\n",
              "      <th>3</th>\n",
              "      <td>A2WNBOD3WNDNKT</td>\n",
              "      <td>0439886341</td>\n",
              "      <td>3.0</td>\n",
              "      <td>1374451200</td>\n",
              "      <td>http://ecx.images-amazon.com/images/I/51k0qa8f...</td>\n",
              "      <td>Digital Organizer and Messenger</td>\n",
              "      <td>[[Electronics, Computers &amp; Accessories, PDAs, ...</td>\n",
              "      <td>Digital Organizer and Messenger</td>\n",
              "      <td>8.15</td>\n",
              "      <td>{'Electronics': 144944}</td>\n",
              "      <td>{'also_viewed': ['0545016266', 'B009ECM8QY', '...</td>\n",
              "      <td>NaN</td>\n",
              "    </tr>\n",
              "    <tr>\n",
              "      <th>4</th>\n",
              "      <td>A1GI0U4ZRJA8WN</td>\n",
              "      <td>0439886341</td>\n",
              "      <td>1.0</td>\n",
              "      <td>1334707200</td>\n",
              "      <td>http://ecx.images-amazon.com/images/I/51k0qa8f...</td>\n",
              "      <td>Digital Organizer and Messenger</td>\n",
              "      <td>[[Electronics, Computers &amp; Accessories, PDAs, ...</td>\n",
              "      <td>Digital Organizer and Messenger</td>\n",
              "      <td>8.15</td>\n",
              "      <td>{'Electronics': 144944}</td>\n",
              "      <td>{'also_viewed': ['0545016266', 'B009ECM8QY', '...</td>\n",
              "      <td>NaN</td>\n",
              "    </tr>\n",
              "  </tbody>\n",
              "</table>\n",
              "</div>"
            ],
            "text/plain": [
              "       reviewerID        asin  overall   timestamp  \\\n",
              "0   AKM1MP6P0OYPR  0132793040      5.0  1365811200   \n",
              "1  A2CX7LUOHB2NDG  0321732944      5.0  1341100800   \n",
              "2  A2NWSAGRHCP8N5  0439886341      1.0  1367193600   \n",
              "3  A2WNBOD3WNDNKT  0439886341      3.0  1374451200   \n",
              "4  A1GI0U4ZRJA8WN  0439886341      1.0  1334707200   \n",
              "\n",
              "                                               imUrl  \\\n",
              "0  http://ecx.images-amazon.com/images/I/31JIPhp%...   \n",
              "1  http://ecx.images-amazon.com/images/I/31uogm6Y...   \n",
              "2  http://ecx.images-amazon.com/images/I/51k0qa8f...   \n",
              "3  http://ecx.images-amazon.com/images/I/51k0qa8f...   \n",
              "4  http://ecx.images-amazon.com/images/I/51k0qa8f...   \n",
              "\n",
              "                                         description  \\\n",
              "0  The Kelby Training DVD Mastering Blend Modes i...   \n",
              "1                                                NaN   \n",
              "2                    Digital Organizer and Messenger   \n",
              "3                    Digital Organizer and Messenger   \n",
              "4                    Digital Organizer and Messenger   \n",
              "\n",
              "                                          categories  \\\n",
              "0  [[Electronics, Computers & Accessories, Cables...   \n",
              "1  [[Electronics, Computers & Accessories, Cables...   \n",
              "2  [[Electronics, Computers & Accessories, PDAs, ...   \n",
              "3  [[Electronics, Computers & Accessories, PDAs, ...   \n",
              "4  [[Electronics, Computers & Accessories, PDAs, ...   \n",
              "\n",
              "                                               title  price  \\\n",
              "0  Kelby Training DVD: Mastering Blend Modes in A...    NaN   \n",
              "1  Kelby Training DVD: Adobe Photoshop CS5 Crash ...    NaN   \n",
              "2                    Digital Organizer and Messenger   8.15   \n",
              "3                    Digital Organizer and Messenger   8.15   \n",
              "4                    Digital Organizer and Messenger   8.15   \n",
              "\n",
              "                 salesRank                                            related  \\\n",
              "0                      NaN                                                NaN   \n",
              "1                      NaN                                                NaN   \n",
              "2  {'Electronics': 144944}  {'also_viewed': ['0545016266', 'B009ECM8QY', '...   \n",
              "3  {'Electronics': 144944}  {'also_viewed': ['0545016266', 'B009ECM8QY', '...   \n",
              "4  {'Electronics': 144944}  {'also_viewed': ['0545016266', 'B009ECM8QY', '...   \n",
              "\n",
              "  brand  \n",
              "0   NaN  \n",
              "1   NaN  \n",
              "2   NaN  \n",
              "3   NaN  \n",
              "4   NaN  "
            ]
          },
          "execution_count": 29,
          "metadata": {},
          "output_type": "execute_result"
        }
      ],
      "source": [
        "product_ratings.head()\n"
      ]
    },
    {
      "cell_type": "code",
      "execution_count": null,
      "metadata": {
        "id": "FsqKAHySebab",
        "outputId": "de028e07-a0d0-457f-9f08-7abe0de55dc7"
      },
      "outputs": [
        {
          "data": {
            "text/plain": [
              "(7824482, 12)"
            ]
          },
          "execution_count": 30,
          "metadata": {},
          "output_type": "execute_result"
        }
      ],
      "source": [
        "product_ratings.shape"
      ]
    },
    {
      "cell_type": "code",
      "execution_count": null,
      "metadata": {
        "id": "L_0726jeebac"
      },
      "outputs": [],
      "source": [
        "product_ratings.drop(['imUrl','description','categories','price','salesRank','related','brand'], axis=1, inplace=True)\n"
      ]
    },
    {
      "cell_type": "code",
      "execution_count": null,
      "metadata": {
        "id": "cMC82fVEebac"
      },
      "outputs": [],
      "source": [
        "product_ratings.drop(['timestamp'],axis=1,inplace=True)"
      ]
    },
    {
      "cell_type": "code",
      "execution_count": null,
      "metadata": {
        "id": "qnbYE2Rvebac",
        "outputId": "01df8d63-d7e8-4b76-a392-6c4023d15be8"
      },
      "outputs": [
        {
          "data": {
            "text/html": [
              "<div>\n",
              "<style scoped>\n",
              "    .dataframe tbody tr th:only-of-type {\n",
              "        vertical-align: middle;\n",
              "    }\n",
              "\n",
              "    .dataframe tbody tr th {\n",
              "        vertical-align: top;\n",
              "    }\n",
              "\n",
              "    .dataframe thead th {\n",
              "        text-align: right;\n",
              "    }\n",
              "</style>\n",
              "<table border=\"1\" class=\"dataframe\">\n",
              "  <thead>\n",
              "    <tr style=\"text-align: right;\">\n",
              "      <th></th>\n",
              "      <th>reviewerID</th>\n",
              "      <th>asin</th>\n",
              "      <th>overall</th>\n",
              "      <th>title</th>\n",
              "    </tr>\n",
              "  </thead>\n",
              "  <tbody>\n",
              "    <tr>\n",
              "      <th>0</th>\n",
              "      <td>AKM1MP6P0OYPR</td>\n",
              "      <td>0132793040</td>\n",
              "      <td>5.0</td>\n",
              "      <td>Kelby Training DVD: Mastering Blend Modes in A...</td>\n",
              "    </tr>\n",
              "    <tr>\n",
              "      <th>1</th>\n",
              "      <td>A2CX7LUOHB2NDG</td>\n",
              "      <td>0321732944</td>\n",
              "      <td>5.0</td>\n",
              "      <td>Kelby Training DVD: Adobe Photoshop CS5 Crash ...</td>\n",
              "    </tr>\n",
              "    <tr>\n",
              "      <th>2</th>\n",
              "      <td>A2NWSAGRHCP8N5</td>\n",
              "      <td>0439886341</td>\n",
              "      <td>1.0</td>\n",
              "      <td>Digital Organizer and Messenger</td>\n",
              "    </tr>\n",
              "    <tr>\n",
              "      <th>3</th>\n",
              "      <td>A2WNBOD3WNDNKT</td>\n",
              "      <td>0439886341</td>\n",
              "      <td>3.0</td>\n",
              "      <td>Digital Organizer and Messenger</td>\n",
              "    </tr>\n",
              "    <tr>\n",
              "      <th>4</th>\n",
              "      <td>A1GI0U4ZRJA8WN</td>\n",
              "      <td>0439886341</td>\n",
              "      <td>1.0</td>\n",
              "      <td>Digital Organizer and Messenger</td>\n",
              "    </tr>\n",
              "  </tbody>\n",
              "</table>\n",
              "</div>"
            ],
            "text/plain": [
              "       reviewerID        asin  overall  \\\n",
              "0   AKM1MP6P0OYPR  0132793040      5.0   \n",
              "1  A2CX7LUOHB2NDG  0321732944      5.0   \n",
              "2  A2NWSAGRHCP8N5  0439886341      1.0   \n",
              "3  A2WNBOD3WNDNKT  0439886341      3.0   \n",
              "4  A1GI0U4ZRJA8WN  0439886341      1.0   \n",
              "\n",
              "                                               title  \n",
              "0  Kelby Training DVD: Mastering Blend Modes in A...  \n",
              "1  Kelby Training DVD: Adobe Photoshop CS5 Crash ...  \n",
              "2                    Digital Organizer and Messenger  \n",
              "3                    Digital Organizer and Messenger  \n",
              "4                    Digital Organizer and Messenger  "
            ]
          },
          "execution_count": 47,
          "metadata": {},
          "output_type": "execute_result"
        }
      ],
      "source": [
        "product_ratings.head()"
      ]
    },
    {
      "cell_type": "code",
      "execution_count": null,
      "metadata": {
        "id": "YSw63rDxebac",
        "outputId": "84b826bf-3f5d-47a7-c92f-af012bb4d77a"
      },
      "outputs": [
        {
          "data": {
            "text/plain": [
              "(7824482, 4)"
            ]
          },
          "execution_count": 48,
          "metadata": {},
          "output_type": "execute_result"
        }
      ],
      "source": [
        "product_ratings.shape"
      ]
    },
    {
      "cell_type": "code",
      "execution_count": null,
      "metadata": {
        "id": "C6PJyJ7febad"
      },
      "outputs": [],
      "source": [
        "product_ratings = product_ratings.rename(columns={'reviewerID': 'userID', 'asin': 'prod_ID','title': 'prod_name',\n",
        "                                                 'overall': 'rating' })"
      ]
    },
    {
      "cell_type": "code",
      "execution_count": null,
      "metadata": {
        "id": "CbMHSoNHebad",
        "outputId": "60f1f872-0e21-4277-93d0-57404bdaa178"
      },
      "outputs": [
        {
          "data": {
            "text/html": [
              "<div>\n",
              "<style scoped>\n",
              "    .dataframe tbody tr th:only-of-type {\n",
              "        vertical-align: middle;\n",
              "    }\n",
              "\n",
              "    .dataframe tbody tr th {\n",
              "        vertical-align: top;\n",
              "    }\n",
              "\n",
              "    .dataframe thead th {\n",
              "        text-align: right;\n",
              "    }\n",
              "</style>\n",
              "<table border=\"1\" class=\"dataframe\">\n",
              "  <thead>\n",
              "    <tr style=\"text-align: right;\">\n",
              "      <th></th>\n",
              "      <th>userID</th>\n",
              "      <th>prod_ID</th>\n",
              "      <th>rating</th>\n",
              "      <th>prod_name</th>\n",
              "    </tr>\n",
              "  </thead>\n",
              "  <tbody>\n",
              "    <tr>\n",
              "      <th>0</th>\n",
              "      <td>AKM1MP6P0OYPR</td>\n",
              "      <td>0132793040</td>\n",
              "      <td>5.0</td>\n",
              "      <td>Kelby Training DVD: Mastering Blend Modes in A...</td>\n",
              "    </tr>\n",
              "    <tr>\n",
              "      <th>1</th>\n",
              "      <td>A2CX7LUOHB2NDG</td>\n",
              "      <td>0321732944</td>\n",
              "      <td>5.0</td>\n",
              "      <td>Kelby Training DVD: Adobe Photoshop CS5 Crash ...</td>\n",
              "    </tr>\n",
              "    <tr>\n",
              "      <th>2</th>\n",
              "      <td>A2NWSAGRHCP8N5</td>\n",
              "      <td>0439886341</td>\n",
              "      <td>1.0</td>\n",
              "      <td>Digital Organizer and Messenger</td>\n",
              "    </tr>\n",
              "    <tr>\n",
              "      <th>3</th>\n",
              "      <td>A2WNBOD3WNDNKT</td>\n",
              "      <td>0439886341</td>\n",
              "      <td>3.0</td>\n",
              "      <td>Digital Organizer and Messenger</td>\n",
              "    </tr>\n",
              "    <tr>\n",
              "      <th>4</th>\n",
              "      <td>A1GI0U4ZRJA8WN</td>\n",
              "      <td>0439886341</td>\n",
              "      <td>1.0</td>\n",
              "      <td>Digital Organizer and Messenger</td>\n",
              "    </tr>\n",
              "  </tbody>\n",
              "</table>\n",
              "</div>"
            ],
            "text/plain": [
              "           userID     prod_ID  rating  \\\n",
              "0   AKM1MP6P0OYPR  0132793040     5.0   \n",
              "1  A2CX7LUOHB2NDG  0321732944     5.0   \n",
              "2  A2NWSAGRHCP8N5  0439886341     1.0   \n",
              "3  A2WNBOD3WNDNKT  0439886341     3.0   \n",
              "4  A1GI0U4ZRJA8WN  0439886341     1.0   \n",
              "\n",
              "                                           prod_name  \n",
              "0  Kelby Training DVD: Mastering Blend Modes in A...  \n",
              "1  Kelby Training DVD: Adobe Photoshop CS5 Crash ...  \n",
              "2                    Digital Organizer and Messenger  \n",
              "3                    Digital Organizer and Messenger  \n",
              "4                    Digital Organizer and Messenger  "
            ]
          },
          "execution_count": 50,
          "metadata": {},
          "output_type": "execute_result"
        }
      ],
      "source": [
        "product_ratings.head()"
      ]
    },
    {
      "cell_type": "code",
      "execution_count": null,
      "metadata": {
        "id": "C9FmyS0febae"
      },
      "outputs": [],
      "source": [
        "df=product_ratings"
      ]
    },
    {
      "cell_type": "code",
      "execution_count": null,
      "metadata": {
        "id": "Qj_49UZQebae",
        "outputId": "384d13ae-ef4b-4b5b-bae5-9a474f94be49"
      },
      "outputs": [
        {
          "data": {
            "text/plain": [
              "True"
            ]
          },
          "execution_count": 52,
          "metadata": {},
          "output_type": "execute_result"
        }
      ],
      "source": [
        "df.isnull().any().any()\n"
      ]
    },
    {
      "cell_type": "code",
      "execution_count": null,
      "metadata": {
        "id": "ElglBrlyebae",
        "outputId": "0b4caa3d-dc25-4a6e-e282-09d346b07fbd"
      },
      "outputs": [
        {
          "data": {
            "text/plain": [
              "293557"
            ]
          },
          "execution_count": 53,
          "metadata": {},
          "output_type": "execute_result"
        }
      ],
      "source": [
        "df.isnull().sum().sum()\n"
      ]
    },
    {
      "cell_type": "code",
      "execution_count": null,
      "metadata": {
        "id": "pQw5mN98ebaf"
      },
      "outputs": [],
      "source": [
        "df=df.dropna()\n"
      ]
    },
    {
      "cell_type": "code",
      "execution_count": null,
      "metadata": {
        "id": "JpDEdxFKebaf",
        "outputId": "39b1a3a2-2557-42a9-daff-e02f0a5ea90e"
      },
      "outputs": [
        {
          "data": {
            "text/plain": [
              "(7530925, 4)"
            ]
          },
          "execution_count": 55,
          "metadata": {},
          "output_type": "execute_result"
        }
      ],
      "source": [
        "df.shape\n"
      ]
    },
    {
      "cell_type": "code",
      "execution_count": null,
      "metadata": {
        "id": "iXjS7_9febaf",
        "outputId": "56be5f31-1327-4efd-e22b-aa6d78d41eef"
      },
      "outputs": [
        {
          "data": {
            "text/plain": [
              "False"
            ]
          },
          "execution_count": 56,
          "metadata": {},
          "output_type": "execute_result"
        }
      ],
      "source": [
        "df.isnull().any().any()\n"
      ]
    },
    {
      "cell_type": "code",
      "execution_count": null,
      "metadata": {
        "id": "G517AM1Webaf",
        "outputId": "5679c394-96d1-438e-de45-a8ad33e56dd6"
      },
      "outputs": [
        {
          "data": {
            "text/plain": [
              "4053964"
            ]
          },
          "execution_count": 58,
          "metadata": {},
          "output_type": "execute_result"
        }
      ],
      "source": [
        "len(df['userID'].unique())\n"
      ]
    },
    {
      "cell_type": "code",
      "execution_count": null,
      "metadata": {
        "id": "LJsItY_Tebag",
        "outputId": "eec07554-eeaa-4af1-aab3-91ca10f88f3f"
      },
      "outputs": [
        {
          "name": "stdout",
          "output_type": "stream",
          "text": [
            "<class 'pandas.core.frame.DataFrame'>\n",
            "Int64Index: 7530925 entries, 0 to 7824481\n",
            "Data columns (total 4 columns):\n",
            "userID       object\n",
            "prod_ID      object\n",
            "rating       float64\n",
            "prod_name    object\n",
            "dtypes: float64(1), object(3)\n",
            "memory usage: 287.3+ MB\n"
          ]
        }
      ],
      "source": [
        "df.info()\n"
      ]
    },
    {
      "cell_type": "code",
      "execution_count": null,
      "metadata": {
        "id": "COiBt6H9ebag"
      },
      "outputs": [],
      "source": [
        "counts1=df['userID'].value_counts() \n",
        "counts=df['prod_ID'].value_counts()"
      ]
    },
    {
      "cell_type": "code",
      "execution_count": null,
      "metadata": {
        "id": "4yEjmENhebag",
        "outputId": "8278c8f1-ec7e-4d0a-b1b7-e078c28ed1c3"
      },
      "outputs": [
        {
          "data": {
            "text/plain": [
              "A5JLAU2ARJ0BO     512\n",
              "A3OXHLG6DIBRW8    482\n",
              "ADLVFFE4VBT8      450\n",
              "A6FIAB28IS79      424\n",
              "A680RUE1FDO8B     395\n",
              "A1ODOGXEYECQQ8    371\n",
              "A2AY4YUOX2N1BQ    310\n",
              "AWPODHOB4GFWL     302\n",
              "A36K2N527TXXJN    291\n",
              "ARBKYIVNYWK3C     288\n",
              "A25C2M3QF9G7OQ    284\n",
              "A22CW0ZHY3NJH8    281\n",
              "A38RMU1Y5TDP9     278\n",
              "A3EXWV8FNSSFL6    276\n",
              "A3LGT6UZL99IW1    271\n",
              "A2NOW4U7W3F7RI    269\n",
              "A23GFTVIETX7DS    267\n",
              "A3PD8JD9L4WEII    261\n",
              "A231WM2Z2JL0U3    252\n",
              "A12DQZKRKTNF5E    249\n",
              "A3AYSYSLHU26U9    248\n",
              "A2XRMQA6PJ5ZJ8    244\n",
              "AGVWTYW0ULXHT     241\n",
              "A203OCQQ12MAVT    240\n",
              "A17BUUBOU0598B    239\n",
              "A2NYK9KWFMJV4Y    238\n",
              "A1UQBFCERIP7VJ    230\n",
              "A3A4ZAIBQWKOZS    227\n",
              "A1T1YSCDW0PD25    225\n",
              "A250AXLRBVYKB4    224\n",
              "                 ... \n",
              "AJBWQ5OPXACRZ       1\n",
              "A2XD7AA1QR2WOV      1\n",
              "A2GB0NHCVZ8I0E      1\n",
              "AJ3YJTOAKFXVN       1\n",
              "AP8IKHPFZ93MS       1\n",
              "A3O750IJB8OW11      1\n",
              "A262C85VA94EA3      1\n",
              "A3BDEFTRI9TOZ2      1\n",
              "A1LW7TIGZME5LF      1\n",
              "A1VXY3UTQGYHJS      1\n",
              "A24CXZEHZPJKVI      1\n",
              "A20TWNQG8YIO89      1\n",
              "A2ZRWR16VLG44       1\n",
              "A1K4PDBVE5YS86      1\n",
              "A3K2NCX5NUK7PU      1\n",
              "A3Q6EVKP3FJD5K      1\n",
              "A10HNFZTB34FH9      1\n",
              "A1GLPF4EV8R         1\n",
              "A2AXAE8VGCVQ2T      1\n",
              "A63KXAFCB3WBP       1\n",
              "AOC1H87XRWTQ5       1\n",
              "A3IE0BXUGVG53       1\n",
              "ALILLAOU9KYT7       1\n",
              "AG118MOMQZB0M       1\n",
              "A20PF8BCEWZBXD      1\n",
              "A3M23KFGDE7W8H      1\n",
              "AOR7QKGJJCP76       1\n",
              "A17QMH51CX3YCB      1\n",
              "A9OOY2BLA7RRZ       1\n",
              "A3GOYKSEBP46B0      1\n",
              "Name: userID, Length: 4053964, dtype: int64"
            ]
          },
          "execution_count": 61,
          "metadata": {},
          "output_type": "execute_result"
        }
      ],
      "source": [
        "counts1"
      ]
    },
    {
      "cell_type": "code",
      "execution_count": null,
      "metadata": {
        "id": "78DVleeMebag",
        "outputId": "0bf2cd2d-4f4e-4ee4-d3a2-c22ef47da57f"
      },
      "outputs": [
        {
          "data": {
            "text/plain": [
              "B0074BW614    18244\n",
              "B00DR0PDNE    16454\n",
              "B007WTAJTO    14172\n",
              "B0019EHU8G    12285\n",
              "B003ELYQGG    11617\n",
              "B003ES5ZUU    10276\n",
              "B00622AG6S     9823\n",
              "B0002L5R78     9487\n",
              "B008OHNZI0     8966\n",
              "B003LR7ME6     8840\n",
              "B000LRMS66     8715\n",
              "B009SYZ8OC     8370\n",
              "B004QK7HI8     7060\n",
              "B009A5204K     7059\n",
              "B00BGGDVOO     6893\n",
              "B0098F5W0Q     6616\n",
              "B002MAPRYU     6599\n",
              "B002WE6D44     6509\n",
              "B005HMKKH4     6134\n",
              "B0012S4APK     5642\n",
              "B0052YFYFK     5521\n",
              "B0001FTVEK     5345\n",
              "B0044YU60M     5239\n",
              "B00316263Y     5038\n",
              "B000I68BD4     4903\n",
              "B006ZP8UOW     4842\n",
              "B0041Q38NU     4774\n",
              "B002V88HFE     4708\n",
              "B0027VT6V4     4700\n",
              "B000S5Q9CA     4690\n",
              "              ...  \n",
              "B003GIS8IY        1\n",
              "B006K596GS        1\n",
              "B00301U47A        1\n",
              "B00005K2R1        1\n",
              "B002NL3K6U        1\n",
              "B007VJQ6UG        1\n",
              "B00GWT7L6Y        1\n",
              "B007HZLVTK        1\n",
              "B0057Q0M1Y        1\n",
              "B005DJYLS0        1\n",
              "B002ON54PC        1\n",
              "B001JTMX1A        1\n",
              "B007JUU2V6        1\n",
              "B00006JQ29        1\n",
              "B002TTKCQW        1\n",
              "B005CWT12O        1\n",
              "B00BBZBRD2        1\n",
              "B004AQJF8S        1\n",
              "B00000K2GZ        1\n",
              "B001LAGG7Y        1\n",
              "B00AT3RTX4        1\n",
              "B001T5DPSY        1\n",
              "B00006B7AO        1\n",
              "B001863J5S        1\n",
              "B00JZT65CE        1\n",
              "B00DNUTW9E        1\n",
              "B00460YDPI        1\n",
              "B0045VZS6Q        1\n",
              "B003E4758E        1\n",
              "B00FIJXWY4        1\n",
              "Name: prod_ID, Length: 469625, dtype: int64"
            ]
          },
          "execution_count": 62,
          "metadata": {},
          "output_type": "execute_result"
        }
      ],
      "source": [
        "counts"
      ]
    },
    {
      "cell_type": "code",
      "execution_count": null,
      "metadata": {
        "id": "ozIM325Vebag",
        "outputId": "77310d59-dca9-4684-ac17-849106528221"
      },
      "outputs": [
        {
          "data": {
            "text/plain": [
              "1438"
            ]
          },
          "execution_count": 63,
          "metadata": {},
          "output_type": "execute_result"
        }
      ],
      "source": [
        "len(counts1[counts1>=50].index)"
      ]
    },
    {
      "cell_type": "code",
      "execution_count": null,
      "metadata": {
        "id": "Lf_qkynlebag",
        "outputId": "fc60ab77-2477-4012-ad34-a4773fcb1c30"
      },
      "outputs": [
        {
          "data": {
            "text/plain": [
              "25406"
            ]
          },
          "execution_count": 64,
          "metadata": {},
          "output_type": "execute_result"
        }
      ],
      "source": [
        "len(counts[counts>=50].index)\n"
      ]
    },
    {
      "cell_type": "code",
      "execution_count": null,
      "metadata": {
        "id": "W32f_Jfxebah",
        "outputId": "34b752f5-3e25-4405-e41c-81d541b8269c"
      },
      "outputs": [
        {
          "data": {
            "text/plain": [
              "(116794, 4)"
            ]
          },
          "execution_count": 65,
          "metadata": {},
          "output_type": "execute_result"
        }
      ],
      "source": [
        "df1=df[df['userID'].isin(counts1[counts1 >=50].index)]\n",
        "df1.shape\n"
      ]
    },
    {
      "cell_type": "code",
      "execution_count": null,
      "metadata": {
        "id": "JelE-8z8ebah",
        "outputId": "37d7abf7-02ec-41c9-cfc5-d3d29be4c1db"
      },
      "outputs": [
        {
          "data": {
            "text/plain": [
              "(72341, 4)"
            ]
          },
          "execution_count": 66,
          "metadata": {},
          "output_type": "execute_result"
        }
      ],
      "source": [
        "df1=df1[df1['prod_ID'].isin(counts[counts >=50].index)]\n",
        "df1.shape"
      ]
    },
    {
      "cell_type": "code",
      "execution_count": null,
      "metadata": {
        "id": "Vt2BzggFebah",
        "outputId": "57f2196e-ee9f-4d8b-d5bb-824bfd4387df"
      },
      "outputs": [
        {
          "data": {
            "text/html": [
              "<div>\n",
              "<style scoped>\n",
              "    .dataframe tbody tr th:only-of-type {\n",
              "        vertical-align: middle;\n",
              "    }\n",
              "\n",
              "    .dataframe tbody tr th {\n",
              "        vertical-align: top;\n",
              "    }\n",
              "\n",
              "    .dataframe thead th {\n",
              "        text-align: right;\n",
              "    }\n",
              "</style>\n",
              "<table border=\"1\" class=\"dataframe\">\n",
              "  <thead>\n",
              "    <tr style=\"text-align: right;\">\n",
              "      <th></th>\n",
              "      <th>userID</th>\n",
              "      <th>prod_ID</th>\n",
              "      <th>rating</th>\n",
              "      <th>prod_name</th>\n",
              "    </tr>\n",
              "  </thead>\n",
              "  <tbody>\n",
              "    <tr>\n",
              "      <th>492</th>\n",
              "      <td>A3CLWR1UUZT6TG</td>\n",
              "      <td>0972683275</td>\n",
              "      <td>5.0</td>\n",
              "      <td>VideoSecu 24&amp;quot; Long Arm TV Wall Mount Low ...</td>\n",
              "    </tr>\n",
              "    <tr>\n",
              "      <th>631</th>\n",
              "      <td>A3TAS1AG6FMBQW</td>\n",
              "      <td>0972683275</td>\n",
              "      <td>5.0</td>\n",
              "      <td>VideoSecu 24&amp;quot; Long Arm TV Wall Mount Low ...</td>\n",
              "    </tr>\n",
              "    <tr>\n",
              "      <th>1310</th>\n",
              "      <td>A3LDPF5FMB782Z</td>\n",
              "      <td>1400501466</td>\n",
              "      <td>5.0</td>\n",
              "      <td>Barnes &amp;amp; Noble NOOK Tablet 16gb (Color, BN...</td>\n",
              "    </tr>\n",
              "    <tr>\n",
              "      <th>1322</th>\n",
              "      <td>A1A5KUIIIHFF4U</td>\n",
              "      <td>1400501466</td>\n",
              "      <td>1.0</td>\n",
              "      <td>Barnes &amp;amp; Noble NOOK Tablet 16gb (Color, BN...</td>\n",
              "    </tr>\n",
              "    <tr>\n",
              "      <th>1335</th>\n",
              "      <td>A2XIOXRRYX0KZY</td>\n",
              "      <td>1400501466</td>\n",
              "      <td>3.0</td>\n",
              "      <td>Barnes &amp;amp; Noble NOOK Tablet 16gb (Color, BN...</td>\n",
              "    </tr>\n",
              "  </tbody>\n",
              "</table>\n",
              "</div>"
            ],
            "text/plain": [
              "              userID     prod_ID  rating  \\\n",
              "492   A3CLWR1UUZT6TG  0972683275     5.0   \n",
              "631   A3TAS1AG6FMBQW  0972683275     5.0   \n",
              "1310  A3LDPF5FMB782Z  1400501466     5.0   \n",
              "1322  A1A5KUIIIHFF4U  1400501466     1.0   \n",
              "1335  A2XIOXRRYX0KZY  1400501466     3.0   \n",
              "\n",
              "                                              prod_name  \n",
              "492   VideoSecu 24&quot; Long Arm TV Wall Mount Low ...  \n",
              "631   VideoSecu 24&quot; Long Arm TV Wall Mount Low ...  \n",
              "1310  Barnes &amp; Noble NOOK Tablet 16gb (Color, BN...  \n",
              "1322  Barnes &amp; Noble NOOK Tablet 16gb (Color, BN...  \n",
              "1335  Barnes &amp; Noble NOOK Tablet 16gb (Color, BN...  "
            ]
          },
          "execution_count": 67,
          "metadata": {},
          "output_type": "execute_result"
        }
      ],
      "source": [
        "df1.head()\n"
      ]
    },
    {
      "cell_type": "code",
      "execution_count": null,
      "metadata": {
        "id": "z8kY43lMebah",
        "outputId": "ddb9dc84-677f-47be-83c1-48b96b34c726"
      },
      "outputs": [
        {
          "data": {
            "text/html": [
              "<div>\n",
              "<style scoped>\n",
              "    .dataframe tbody tr th:only-of-type {\n",
              "        vertical-align: middle;\n",
              "    }\n",
              "\n",
              "    .dataframe tbody tr th {\n",
              "        vertical-align: top;\n",
              "    }\n",
              "\n",
              "    .dataframe thead th {\n",
              "        text-align: right;\n",
              "    }\n",
              "</style>\n",
              "<table border=\"1\" class=\"dataframe\">\n",
              "  <thead>\n",
              "    <tr style=\"text-align: right;\">\n",
              "      <th></th>\n",
              "      <th>ratings_sum</th>\n",
              "    </tr>\n",
              "    <tr>\n",
              "      <th>prod_ID</th>\n",
              "      <th></th>\n",
              "    </tr>\n",
              "  </thead>\n",
              "  <tbody>\n",
              "    <tr>\n",
              "      <th>B003ES5ZUU</th>\n",
              "      <td>846.0</td>\n",
              "    </tr>\n",
              "    <tr>\n",
              "      <th>B0088CJT4U</th>\n",
              "      <td>814.0</td>\n",
              "    </tr>\n",
              "    <tr>\n",
              "      <th>B000N99BBC</th>\n",
              "      <td>755.0</td>\n",
              "    </tr>\n",
              "    <tr>\n",
              "      <th>B007WTAJTO</th>\n",
              "      <td>741.0</td>\n",
              "    </tr>\n",
              "    <tr>\n",
              "      <th>B00829TIEK</th>\n",
              "      <td>626.0</td>\n",
              "    </tr>\n",
              "    <tr>\n",
              "      <th>B00829THK0</th>\n",
              "      <td>560.0</td>\n",
              "    </tr>\n",
              "    <tr>\n",
              "      <th>B008DWCRQW</th>\n",
              "      <td>524.0</td>\n",
              "    </tr>\n",
              "    <tr>\n",
              "      <th>B004CLYEDC</th>\n",
              "      <td>517.0</td>\n",
              "    </tr>\n",
              "    <tr>\n",
              "      <th>B002R5AM7C</th>\n",
              "      <td>514.0</td>\n",
              "    </tr>\n",
              "    <tr>\n",
              "      <th>B002V88HFE</th>\n",
              "      <td>475.0</td>\n",
              "    </tr>\n",
              "  </tbody>\n",
              "</table>\n",
              "</div>"
            ],
            "text/plain": [
              "            ratings_sum\n",
              "prod_ID                \n",
              "B003ES5ZUU        846.0\n",
              "B0088CJT4U        814.0\n",
              "B000N99BBC        755.0\n",
              "B007WTAJTO        741.0\n",
              "B00829TIEK        626.0\n",
              "B00829THK0        560.0\n",
              "B008DWCRQW        524.0\n",
              "B004CLYEDC        517.0\n",
              "B002R5AM7C        514.0\n",
              "B002V88HFE        475.0"
            ]
          },
          "execution_count": 68,
          "metadata": {},
          "output_type": "execute_result"
        }
      ],
      "source": [
        "ratings_sum = pd.DataFrame(df1.groupby(['prod_ID'])['rating'].sum()).rename(columns = {'rating': 'ratings_sum'})\n",
        "top10 = ratings_sum.sort_values('ratings_sum', ascending = False).head(10)\n",
        "top10"
      ]
    },
    {
      "cell_type": "code",
      "execution_count": null,
      "metadata": {
        "id": "e7q0yJszebah"
      },
      "outputs": [],
      "source": [
        "top10_popular=top10.merge(df1,left_index = True, right_on = 'prod_ID').drop_duplicates(\n",
        "    ['prod_ID', 'prod_name'])[['prod_ID', 'prod_name','ratings_sum']]"
      ]
    },
    {
      "cell_type": "code",
      "execution_count": null,
      "metadata": {
        "id": "eBolMF2eebah",
        "outputId": "c5e543c5-f38d-4a1b-a456-c59301800b20"
      },
      "outputs": [
        {
          "name": "stdout",
          "output_type": "stream",
          "text": [
            "Top 10 Popular Products by sum user ratings\n",
            "\n"
          ]
        },
        {
          "data": {
            "text/html": [
              "<div>\n",
              "<style scoped>\n",
              "    .dataframe tbody tr th:only-of-type {\n",
              "        vertical-align: middle;\n",
              "    }\n",
              "\n",
              "    .dataframe tbody tr th {\n",
              "        vertical-align: top;\n",
              "    }\n",
              "\n",
              "    .dataframe thead th {\n",
              "        text-align: right;\n",
              "    }\n",
              "</style>\n",
              "<table border=\"1\" class=\"dataframe\">\n",
              "  <thead>\n",
              "    <tr style=\"text-align: right;\">\n",
              "      <th></th>\n",
              "      <th>prod_ID</th>\n",
              "      <th>prod_name</th>\n",
              "      <th>ratings_sum</th>\n",
              "    </tr>\n",
              "  </thead>\n",
              "  <tbody>\n",
              "    <tr>\n",
              "      <th>3313486</th>\n",
              "      <td>B003ES5ZUU</td>\n",
              "      <td>AmazonBasics High-Speed HDMI Cable - 15 Feet (...</td>\n",
              "      <td>846.0</td>\n",
              "    </tr>\n",
              "    <tr>\n",
              "      <th>6104981</th>\n",
              "      <td>B0088CJT4U</td>\n",
              "      <td>TP-LINK TL-WDR4300 Wireless N750 Dual Band Rou...</td>\n",
              "      <td>814.0</td>\n",
              "    </tr>\n",
              "    <tr>\n",
              "      <th>1198226</th>\n",
              "      <td>B000N99BBC</td>\n",
              "      <td>TP-LINK TL-SG1005D 10/100/1000Mbps 5-Port Giga...</td>\n",
              "      <td>755.0</td>\n",
              "    </tr>\n",
              "    <tr>\n",
              "      <th>5941380</th>\n",
              "      <td>B007WTAJTO</td>\n",
              "      <td>SanDisk Ultra 64GB MicroSDXC Class 10 UHS Memo...</td>\n",
              "      <td>741.0</td>\n",
              "    </tr>\n",
              "    <tr>\n",
              "      <th>6031403</th>\n",
              "      <td>B00829TIEK</td>\n",
              "      <td>Seagate Backup Plus 3TB USB 3.0 Desktop Extern...</td>\n",
              "      <td>626.0</td>\n",
              "    </tr>\n",
              "    <tr>\n",
              "      <th>6028195</th>\n",
              "      <td>B00829THK0</td>\n",
              "      <td>Seagate Backup Plus 1TB Desktop External Hard ...</td>\n",
              "      <td>560.0</td>\n",
              "    </tr>\n",
              "    <tr>\n",
              "      <th>6190152</th>\n",
              "      <td>B008DWCRQW</td>\n",
              "      <td>D-Link Wireless AC 1750 Mbps Home Cloud App-En...</td>\n",
              "      <td>524.0</td>\n",
              "    </tr>\n",
              "    <tr>\n",
              "      <th>4024382</th>\n",
              "      <td>B004CLYEDC</td>\n",
              "      <td>Micra Digital CAT5e Snagless Patch Cable, 5 Fe...</td>\n",
              "      <td>517.0</td>\n",
              "    </tr>\n",
              "    <tr>\n",
              "      <th>2796338</th>\n",
              "      <td>B002R5AM7C</td>\n",
              "      <td>Flip MinoHD Video Camera - Brushed Metal, 8 GB...</td>\n",
              "      <td>514.0</td>\n",
              "    </tr>\n",
              "    <tr>\n",
              "      <th>2883526</th>\n",
              "      <td>B002V88HFE</td>\n",
              "      <td>eneloop SEC-CSPACER4PK C Size Spacers for use ...</td>\n",
              "      <td>475.0</td>\n",
              "    </tr>\n",
              "  </tbody>\n",
              "</table>\n",
              "</div>"
            ],
            "text/plain": [
              "            prod_ID                                          prod_name  \\\n",
              "3313486  B003ES5ZUU  AmazonBasics High-Speed HDMI Cable - 15 Feet (...   \n",
              "6104981  B0088CJT4U  TP-LINK TL-WDR4300 Wireless N750 Dual Band Rou...   \n",
              "1198226  B000N99BBC  TP-LINK TL-SG1005D 10/100/1000Mbps 5-Port Giga...   \n",
              "5941380  B007WTAJTO  SanDisk Ultra 64GB MicroSDXC Class 10 UHS Memo...   \n",
              "6031403  B00829TIEK  Seagate Backup Plus 3TB USB 3.0 Desktop Extern...   \n",
              "6028195  B00829THK0  Seagate Backup Plus 1TB Desktop External Hard ...   \n",
              "6190152  B008DWCRQW  D-Link Wireless AC 1750 Mbps Home Cloud App-En...   \n",
              "4024382  B004CLYEDC  Micra Digital CAT5e Snagless Patch Cable, 5 Fe...   \n",
              "2796338  B002R5AM7C  Flip MinoHD Video Camera - Brushed Metal, 8 GB...   \n",
              "2883526  B002V88HFE  eneloop SEC-CSPACER4PK C Size Spacers for use ...   \n",
              "\n",
              "         ratings_sum  \n",
              "3313486        846.0  \n",
              "6104981        814.0  \n",
              "1198226        755.0  \n",
              "5941380        741.0  \n",
              "6031403        626.0  \n",
              "6028195        560.0  \n",
              "6190152        524.0  \n",
              "4024382        517.0  \n",
              "2796338        514.0  \n",
              "2883526        475.0  "
            ]
          },
          "execution_count": 70,
          "metadata": {},
          "output_type": "execute_result"
        }
      ],
      "source": [
        "print ('Top 10 Popular Products by sum user ratings\\n')\n",
        "top10_popular\n"
      ]
    },
    {
      "cell_type": "code",
      "execution_count": null,
      "metadata": {
        "id": "FrMSZKEFebai",
        "outputId": "ca192488-918b-4df7-93f7-06f440445dd3"
      },
      "outputs": [
        {
          "data": {
            "text/html": [
              "<div>\n",
              "<style scoped>\n",
              "    .dataframe tbody tr th:only-of-type {\n",
              "        vertical-align: middle;\n",
              "    }\n",
              "\n",
              "    .dataframe tbody tr th {\n",
              "        vertical-align: top;\n",
              "    }\n",
              "\n",
              "    .dataframe thead th {\n",
              "        text-align: right;\n",
              "    }\n",
              "</style>\n",
              "<table border=\"1\" class=\"dataframe\">\n",
              "  <thead>\n",
              "    <tr style=\"text-align: right;\">\n",
              "      <th>userID</th>\n",
              "      <th>A100UD67AHFODS</th>\n",
              "      <th>A100WO06OQR8BQ</th>\n",
              "      <th>A105S56ODHGJEK</th>\n",
              "      <th>A105TOJ6LTVMBG</th>\n",
              "      <th>A10AFVU66A79Y1</th>\n",
              "      <th>A10H24TDLK2VDP</th>\n",
              "      <th>A10NMELR4KX0J6</th>\n",
              "      <th>A10O7THJ2O20AG</th>\n",
              "      <th>A10PEXB6XAQ5XF</th>\n",
              "      <th>A10X9ME6R66JDX</th>\n",
              "      <th>...</th>\n",
              "      <th>AYOTEJ617O60K</th>\n",
              "      <th>AYP0YPLSP9ISM</th>\n",
              "      <th>AZ515FFZ7I2P7</th>\n",
              "      <th>AZ8XSDMIX04VJ</th>\n",
              "      <th>AZAC8O310IK4E</th>\n",
              "      <th>AZBXKUH4AIW3X</th>\n",
              "      <th>AZCE11PSTCH1L</th>\n",
              "      <th>AZMY6E8B52L2T</th>\n",
              "      <th>AZNUHQSHZHSUE</th>\n",
              "      <th>AZOK5STV85FBJ</th>\n",
              "    </tr>\n",
              "    <tr>\n",
              "      <th>prod_ID</th>\n",
              "      <th></th>\n",
              "      <th></th>\n",
              "      <th></th>\n",
              "      <th></th>\n",
              "      <th></th>\n",
              "      <th></th>\n",
              "      <th></th>\n",
              "      <th></th>\n",
              "      <th></th>\n",
              "      <th></th>\n",
              "      <th></th>\n",
              "      <th></th>\n",
              "      <th></th>\n",
              "      <th></th>\n",
              "      <th></th>\n",
              "      <th></th>\n",
              "      <th></th>\n",
              "      <th></th>\n",
              "      <th></th>\n",
              "      <th></th>\n",
              "      <th></th>\n",
              "    </tr>\n",
              "  </thead>\n",
              "  <tbody>\n",
              "    <tr>\n",
              "      <th>0972683275</th>\n",
              "      <td>0.0</td>\n",
              "      <td>0.0</td>\n",
              "      <td>0.0</td>\n",
              "      <td>0.0</td>\n",
              "      <td>0.0</td>\n",
              "      <td>0.0</td>\n",
              "      <td>0.0</td>\n",
              "      <td>0.0</td>\n",
              "      <td>0.0</td>\n",
              "      <td>0.0</td>\n",
              "      <td>...</td>\n",
              "      <td>0.0</td>\n",
              "      <td>0.0</td>\n",
              "      <td>0.0</td>\n",
              "      <td>0.0</td>\n",
              "      <td>0.0</td>\n",
              "      <td>0.0</td>\n",
              "      <td>0.0</td>\n",
              "      <td>0.0</td>\n",
              "      <td>0.0</td>\n",
              "      <td>0.0</td>\n",
              "    </tr>\n",
              "    <tr>\n",
              "      <th>1400501466</th>\n",
              "      <td>0.0</td>\n",
              "      <td>0.0</td>\n",
              "      <td>0.0</td>\n",
              "      <td>0.0</td>\n",
              "      <td>0.0</td>\n",
              "      <td>0.0</td>\n",
              "      <td>0.0</td>\n",
              "      <td>0.0</td>\n",
              "      <td>0.0</td>\n",
              "      <td>0.0</td>\n",
              "      <td>...</td>\n",
              "      <td>0.0</td>\n",
              "      <td>0.0</td>\n",
              "      <td>0.0</td>\n",
              "      <td>0.0</td>\n",
              "      <td>0.0</td>\n",
              "      <td>0.0</td>\n",
              "      <td>0.0</td>\n",
              "      <td>0.0</td>\n",
              "      <td>0.0</td>\n",
              "      <td>0.0</td>\n",
              "    </tr>\n",
              "    <tr>\n",
              "      <th>1400501520</th>\n",
              "      <td>0.0</td>\n",
              "      <td>0.0</td>\n",
              "      <td>0.0</td>\n",
              "      <td>0.0</td>\n",
              "      <td>0.0</td>\n",
              "      <td>0.0</td>\n",
              "      <td>0.0</td>\n",
              "      <td>0.0</td>\n",
              "      <td>0.0</td>\n",
              "      <td>0.0</td>\n",
              "      <td>...</td>\n",
              "      <td>0.0</td>\n",
              "      <td>0.0</td>\n",
              "      <td>0.0</td>\n",
              "      <td>0.0</td>\n",
              "      <td>0.0</td>\n",
              "      <td>0.0</td>\n",
              "      <td>0.0</td>\n",
              "      <td>0.0</td>\n",
              "      <td>0.0</td>\n",
              "      <td>0.0</td>\n",
              "    </tr>\n",
              "    <tr>\n",
              "      <th>1400501776</th>\n",
              "      <td>0.0</td>\n",
              "      <td>0.0</td>\n",
              "      <td>0.0</td>\n",
              "      <td>0.0</td>\n",
              "      <td>0.0</td>\n",
              "      <td>0.0</td>\n",
              "      <td>0.0</td>\n",
              "      <td>0.0</td>\n",
              "      <td>0.0</td>\n",
              "      <td>0.0</td>\n",
              "      <td>...</td>\n",
              "      <td>0.0</td>\n",
              "      <td>0.0</td>\n",
              "      <td>0.0</td>\n",
              "      <td>0.0</td>\n",
              "      <td>0.0</td>\n",
              "      <td>0.0</td>\n",
              "      <td>0.0</td>\n",
              "      <td>0.0</td>\n",
              "      <td>0.0</td>\n",
              "      <td>0.0</td>\n",
              "    </tr>\n",
              "    <tr>\n",
              "      <th>1400532620</th>\n",
              "      <td>0.0</td>\n",
              "      <td>0.0</td>\n",
              "      <td>0.0</td>\n",
              "      <td>0.0</td>\n",
              "      <td>0.0</td>\n",
              "      <td>0.0</td>\n",
              "      <td>0.0</td>\n",
              "      <td>0.0</td>\n",
              "      <td>0.0</td>\n",
              "      <td>0.0</td>\n",
              "      <td>...</td>\n",
              "      <td>0.0</td>\n",
              "      <td>0.0</td>\n",
              "      <td>0.0</td>\n",
              "      <td>0.0</td>\n",
              "      <td>0.0</td>\n",
              "      <td>0.0</td>\n",
              "      <td>0.0</td>\n",
              "      <td>0.0</td>\n",
              "      <td>0.0</td>\n",
              "      <td>0.0</td>\n",
              "    </tr>\n",
              "  </tbody>\n",
              "</table>\n",
              "<p>5 rows × 1438 columns</p>\n",
              "</div>"
            ],
            "text/plain": [
              "userID      A100UD67AHFODS  A100WO06OQR8BQ  A105S56ODHGJEK  A105TOJ6LTVMBG  \\\n",
              "prod_ID                                                                      \n",
              "0972683275             0.0             0.0             0.0             0.0   \n",
              "1400501466             0.0             0.0             0.0             0.0   \n",
              "1400501520             0.0             0.0             0.0             0.0   \n",
              "1400501776             0.0             0.0             0.0             0.0   \n",
              "1400532620             0.0             0.0             0.0             0.0   \n",
              "\n",
              "userID      A10AFVU66A79Y1  A10H24TDLK2VDP  A10NMELR4KX0J6  A10O7THJ2O20AG  \\\n",
              "prod_ID                                                                      \n",
              "0972683275             0.0             0.0             0.0             0.0   \n",
              "1400501466             0.0             0.0             0.0             0.0   \n",
              "1400501520             0.0             0.0             0.0             0.0   \n",
              "1400501776             0.0             0.0             0.0             0.0   \n",
              "1400532620             0.0             0.0             0.0             0.0   \n",
              "\n",
              "userID      A10PEXB6XAQ5XF  A10X9ME6R66JDX  ...  AYOTEJ617O60K  AYP0YPLSP9ISM  \\\n",
              "prod_ID                                     ...                                 \n",
              "0972683275             0.0             0.0  ...            0.0            0.0   \n",
              "1400501466             0.0             0.0  ...            0.0            0.0   \n",
              "1400501520             0.0             0.0  ...            0.0            0.0   \n",
              "1400501776             0.0             0.0  ...            0.0            0.0   \n",
              "1400532620             0.0             0.0  ...            0.0            0.0   \n",
              "\n",
              "userID      AZ515FFZ7I2P7  AZ8XSDMIX04VJ  AZAC8O310IK4E  AZBXKUH4AIW3X  \\\n",
              "prod_ID                                                                  \n",
              "0972683275            0.0            0.0            0.0            0.0   \n",
              "1400501466            0.0            0.0            0.0            0.0   \n",
              "1400501520            0.0            0.0            0.0            0.0   \n",
              "1400501776            0.0            0.0            0.0            0.0   \n",
              "1400532620            0.0            0.0            0.0            0.0   \n",
              "\n",
              "userID      AZCE11PSTCH1L  AZMY6E8B52L2T  AZNUHQSHZHSUE  AZOK5STV85FBJ  \n",
              "prod_ID                                                                 \n",
              "0972683275            0.0            0.0            0.0            0.0  \n",
              "1400501466            0.0            0.0            0.0            0.0  \n",
              "1400501520            0.0            0.0            0.0            0.0  \n",
              "1400501776            0.0            0.0            0.0            0.0  \n",
              "1400532620            0.0            0.0            0.0            0.0  \n",
              "\n",
              "[5 rows x 1438 columns]"
            ]
          },
          "execution_count": 71,
          "metadata": {},
          "output_type": "execute_result"
        }
      ],
      "source": [
        "ratingsd=df1.pivot(index='prod_ID',columns= 'userID',values='rating').fillna(0)\n",
        "ratingsd.head()"
      ]
    },
    {
      "cell_type": "code",
      "execution_count": null,
      "metadata": {
        "id": "U_fvH-3Lebai",
        "outputId": "d595664b-f745-4dc7-f05c-d9151a11b071"
      },
      "outputs": [
        {
          "data": {
            "text/plain": [
              "(16250, 1438)"
            ]
          },
          "execution_count": 72,
          "metadata": {},
          "output_type": "execute_result"
        }
      ],
      "source": [
        "ratingsd.shape\n"
      ]
    },
    {
      "cell_type": "code",
      "execution_count": null,
      "metadata": {
        "id": "ueDLRHNEebai"
      },
      "outputs": [],
      "source": [
        "from sklearn.model_selection import train_test_split\n",
        "traind, testd = train_test_split(ratingsd, test_size=0.30,random_state=42)"
      ]
    },
    {
      "cell_type": "code",
      "execution_count": null,
      "metadata": {
        "id": "rmpxvtSKebai",
        "outputId": "266604d9-477a-4e58-f0a8-01aef0d37efa"
      },
      "outputs": [
        {
          "name": "stderr",
          "output_type": "stream",
          "text": [
            "/Users/hp/anaconda3/lib/python3.7/site-packages/ipykernel_launcher.py:1: FutureWarning: Method .as_matrix will be removed in a future version. Use .values instead.\n",
            "  \"\"\"Entry point for launching an IPython kernel.\n",
            "/Users/hp/anaconda3/lib/python3.7/site-packages/ipykernel_launcher.py:2: FutureWarning: Method .as_matrix will be removed in a future version. Use .values instead.\n",
            "  \n"
          ]
        }
      ],
      "source": [
        "train = traind.as_matrix()\n",
        "test = testd.as_matrix()"
      ]
    },
    {
      "cell_type": "code",
      "execution_count": null,
      "metadata": {
        "id": "T9dW0w3Hebai",
        "outputId": "8baf2c74-6534-43de-8a9b-8428628ee72c"
      },
      "outputs": [
        {
          "name": "stdout",
          "output_type": "stream",
          "text": [
            "Sparsity:  0.31%\n"
          ]
        }
      ],
      "source": [
        "sparsity = float(len(train.nonzero()[0]))\n",
        "sparsity /= (train.shape[0] * train.shape[1])\n",
        "sparsity *= 100\n",
        "print ('Sparsity: {:5.2f}%'.format(sparsity))\n"
      ]
    },
    {
      "cell_type": "code",
      "execution_count": null,
      "metadata": {
        "id": "74SKP0WTebai"
      },
      "outputs": [],
      "source": [
        "def item_similarity(ratings, epsilon=1e-9):\n",
        "    sim = ratings.T.dot(ratings) + epsilon\n",
        "    norms = np.array([np.sqrt(np.diagonal(sim))])\n",
        "    return (sim / norms / norms.T)"
      ]
    },
    {
      "cell_type": "code",
      "execution_count": null,
      "metadata": {
        "id": "rxr1mdtaebai"
      },
      "outputs": [],
      "source": [
        "item_sim = item_similarity(train)\n"
      ]
    },
    {
      "cell_type": "code",
      "execution_count": null,
      "metadata": {
        "id": "5uc83KXDebai"
      },
      "outputs": [],
      "source": [
        "def predict_item(ratings, similarity):\n",
        "    return ratings.dot(similarity) / np.array([np.abs(similarity).sum(axis=1)])"
      ]
    },
    {
      "cell_type": "code",
      "execution_count": null,
      "metadata": {
        "id": "Q_K9tvh7ebaj"
      },
      "outputs": [],
      "source": [
        "item_prediction = predict_item(train, item_sim)\n"
      ]
    },
    {
      "cell_type": "code",
      "execution_count": null,
      "metadata": {
        "id": "zTVkuc0vebaj",
        "outputId": "8cfd6964-7c83-42ce-c11a-bb07a86bb53f"
      },
      "outputs": [
        {
          "data": {
            "text/plain": [
              "array([[1.13154332e-02, 2.39846407e-13, 4.18406498e-13, 1.42814874e-02],\n",
              "       [7.08353547e-13, 9.88597954e-03, 6.26177519e-03, 9.03053061e-04],\n",
              "       [6.14677728e-02, 5.25546476e-02, 6.00339326e-02, 3.81653351e-02],\n",
              "       [3.07085918e-13, 4.71910825e-03, 2.83874998e-13, 3.87580711e-13]])"
            ]
          },
          "execution_count": 81,
          "metadata": {},
          "output_type": "execute_result"
        }
      ],
      "source": [
        "item_prediction[:4, :4]\n"
      ]
    },
    {
      "cell_type": "code",
      "execution_count": null,
      "metadata": {
        "id": "lT7wPLVqebaj"
      },
      "outputs": [],
      "source": [
        "from sklearn.metrics import mean_squared_error\n",
        "\n",
        "def get_mse(pred, actual):\n",
        "    pred = pred[actual.nonzero()].flatten()\n",
        "    actual = actual[actual.nonzero()].flatten()\n",
        "    return mean_squared_error(pred, actual)"
      ]
    },
    {
      "cell_type": "code",
      "execution_count": null,
      "metadata": {
        "id": "hN7zDFT9ebaj",
        "outputId": "56862f3e-637f-41a2-c0aa-cbb6bb0e0f6f"
      },
      "outputs": [
        {
          "name": "stdout",
          "output_type": "stream",
          "text": [
            "Item-based CF MSE: 19.474033380362258\n"
          ]
        }
      ],
      "source": [
        "print ('Item-based CF MSE: ' + str(get_mse(item_prediction, test)))\n"
      ]
    },
    {
      "cell_type": "code",
      "execution_count": null,
      "metadata": {
        "id": "Cbzetj12ebaj",
        "outputId": "91404a65-d335-4e30-97bf-1a2e918fb813"
      },
      "outputs": [
        {
          "name": "stdout",
          "output_type": "stream",
          "text": [
            "[0.0146434  0.00719657 0.00617064 0.0047372  0.00449876 0.00414031\n",
            " 0.00404674 0.00397643 0.00385144 0.0036875  0.00363512 0.0034617\n",
            " 0.00339788 0.00330323 0.00321327 0.00316889 0.00310721 0.00307747\n",
            " 0.00299119 0.00296976 0.00287676 0.00285001 0.00279331 0.00275791\n",
            " 0.00275023 0.00272965 0.00269243 0.00268028 0.00264847 0.00263828\n",
            " 0.00260773 0.00254477 0.00251658 0.00250013 0.00247933 0.0024676\n",
            " 0.00241899 0.00239642 0.0023941  0.00237252 0.00233962 0.00234226\n",
            " 0.00228751 0.00228433 0.00226599 0.00220661 0.00219082 0.00216018\n",
            " 0.0021291  0.00209723]\n",
            "0.16369386193637217\n"
          ]
        }
      ],
      "source": [
        "from sklearn.decomposition import TruncatedSVD\n",
        "from sklearn.metrics.pairwise import cosine_similarity\n",
        "\n",
        "svd = TruncatedSVD(n_components=50, n_iter=7, random_state=42)\n",
        "r_mat_tr=svd.fit_transform(traind) \n",
        "print(svd.explained_variance_ratio_)  \n",
        "print(svd.explained_variance_ratio_.sum())\n",
        "\n",
        "ctrain = cosine_similarity(r_mat_tr)\n"
      ]
    },
    {
      "cell_type": "code",
      "execution_count": null,
      "metadata": {
        "id": "AFDOq1eAebaj",
        "outputId": "11bc4258-ffd0-4855-90ff-75fdc928e557"
      },
      "outputs": [
        {
          "name": "stdout",
          "output_type": "stream",
          "text": [
            "[0.02010026 0.00928553 0.00665454 0.0061458  0.00586076 0.00558876\n",
            " 0.00524494 0.00512105 0.00502567 0.00495611 0.00477533 0.00459343\n",
            " 0.00454924 0.00431174 0.00421176 0.00415563 0.00409069 0.00398067\n",
            " 0.00389391 0.00385626 0.00376387 0.00370799 0.00366667 0.00357465\n",
            " 0.00350927 0.00343089 0.0033947  0.00334115 0.00329635 0.00322994\n",
            " 0.00320732 0.00316657 0.00315119 0.00313284 0.00305854 0.00304108\n",
            " 0.00301784 0.00299211 0.00292439 0.00290545 0.00287098 0.00284074\n",
            " 0.00282324 0.00280391 0.00279295 0.002764   0.00275652 0.00269294\n",
            " 0.0026512  0.00264159]\n",
            "0.20955292096154493\n"
          ]
        }
      ],
      "source": [
        "from sklearn.decomposition import TruncatedSVD\n",
        "from sklearn.metrics.pairwise import cosine_similarity\n",
        "\n",
        "svd = TruncatedSVD(n_components=50, n_iter=7, random_state=42)\n",
        "r_mat_tr=svd.fit_transform(testd) \n",
        "print(svd.explained_variance_ratio_)  \n",
        "print(svd.explained_variance_ratio_.sum())\n",
        "\n",
        "ctest = cosine_similarity(r_mat_tr)\n"
      ]
    },
    {
      "cell_type": "code",
      "execution_count": null,
      "metadata": {
        "id": "R2MWDZ8Bebaj",
        "outputId": "d1805b76-ce6d-4375-8d1a-a037ecc1cdb4"
      },
      "outputs": [
        {
          "name": "stdout",
          "output_type": "stream",
          "text": [
            " CF MSE: 0.040622279780595204\n"
          ]
        }
      ],
      "source": [
        "print (' CF MSE: ' + str(get_mse(ctrain, ctest)))\n"
      ]
    },
    {
      "cell_type": "code",
      "execution_count": null,
      "metadata": {
        "id": "WHAsEaPMebaj"
      },
      "outputs": [],
      "source": [
        "df1 = df1.sort_values(by='rating')\n",
        "df1 = df1.reset_index(drop=True)\n",
        "count_users = df1.groupby(\"userID\", as_index=False).count()\n"
      ]
    },
    {
      "cell_type": "code",
      "execution_count": null,
      "metadata": {
        "id": "istgDBw7ebak"
      },
      "outputs": [],
      "source": [
        "count = df1.groupby(\"prod_ID\", as_index=False).mean()\n"
      ]
    },
    {
      "cell_type": "code",
      "execution_count": null,
      "metadata": {
        "id": "nNkYRdbgebak",
        "outputId": "497214dc-2686-4397-b4e2-c5a7f8b11531"
      },
      "outputs": [
        {
          "name": "stdout",
          "output_type": "stream",
          "text": [
            "16250\n"
          ]
        }
      ],
      "source": [
        "items_df = count[['prod_ID']]\n",
        "items_df.head()\n",
        "print(len(items_df))\n"
      ]
    },
    {
      "cell_type": "code",
      "execution_count": null,
      "metadata": {
        "id": "mhFpcljnebak",
        "outputId": "47c27390-852e-4745-a612-364573c256eb"
      },
      "outputs": [
        {
          "name": "stdout",
          "output_type": "stream",
          "text": [
            "1438\n"
          ]
        }
      ],
      "source": [
        "users_df = count_users[['userID']]\n",
        "users_df.head()\n",
        "print(len(users_df))\n"
      ]
    },
    {
      "cell_type": "code",
      "execution_count": null,
      "metadata": {
        "id": "B64YsYujebak",
        "outputId": "033471ba-fa27-4340-a0e8-226f504c177b"
      },
      "outputs": [
        {
          "data": {
            "text/plain": [
              "1438"
            ]
          },
          "execution_count": 92,
          "metadata": {},
          "output_type": "execute_result"
        }
      ],
      "source": [
        "users_list = users_df.values\n",
        "len(users_list)"
      ]
    },
    {
      "cell_type": "code",
      "execution_count": null,
      "metadata": {
        "id": "rV0qjLeVebak",
        "outputId": "cc0315af-b8b9-4e58-a37f-7e519ee18977"
      },
      "outputs": [
        {
          "name": "stderr",
          "output_type": "stream",
          "text": [
            "/Users/hp/anaconda3/lib/python3.7/site-packages/ipykernel_launcher.py:3: FutureWarning: Method .as_matrix will be removed in a future version. Use .values instead.\n",
            "  This is separate from the ipykernel package so we can avoid doing imports until\n"
          ]
        },
        {
          "data": {
            "text/plain": [
              "array([[0., 0., 0., ..., 0., 0., 0.],\n",
              "       [0., 0., 0., ..., 0., 0., 0.],\n",
              "       [0., 0., 0., ..., 0., 0., 0.],\n",
              "       ...,\n",
              "       [0., 0., 0., ..., 0., 0., 0.],\n",
              "       [0., 0., 0., ..., 0., 0., 0.],\n",
              "       [0., 0., 0., ..., 0., 0., 0.]])"
            ]
          },
          "execution_count": 93,
          "metadata": {},
          "output_type": "execute_result"
        }
      ],
      "source": [
        "df_clean_matrix = df1.pivot(index='prod_ID', columns='userID', values='rating').fillna(0)\n",
        "df_clean_matrix = df_clean_matrix.T\n",
        "R = (df_clean_matrix).as_matrix()\n",
        "R\n"
      ]
    },
    {
      "cell_type": "code",
      "execution_count": null,
      "metadata": {
        "id": "IVGycB6Gebak",
        "outputId": "1112bcf5-08a4-48a8-f4d6-3b2f600d6ff7"
      },
      "outputs": [
        {
          "data": {
            "text/plain": [
              "array([[-0.02418462, -0.02418462, -0.02418462, ..., -0.02418462,\n",
              "        -0.02418462, -0.02418462],\n",
              "       [-0.02024615, -0.02024615, -0.02024615, ..., -0.02024615,\n",
              "        -0.02024615, -0.02024615],\n",
              "       [-0.00861538, -0.00861538, -0.00861538, ..., -0.00861538,\n",
              "        -0.00861538, -0.00861538],\n",
              "       ...,\n",
              "       [-0.02861538, -0.02861538, -0.02861538, ..., -0.02861538,\n",
              "        -0.02861538, -0.02861538],\n",
              "       [-0.00793846, -0.00793846, -0.00793846, ..., -0.00793846,\n",
              "        -0.00793846, -0.00793846],\n",
              "       [-0.00886154, -0.00886154, -0.00886154, ..., -0.00886154,\n",
              "        -0.00886154, -0.00886154]])"
            ]
          },
          "execution_count": 94,
          "metadata": {},
          "output_type": "execute_result"
        }
      ],
      "source": [
        "user_ratings_mean = np.mean(R, axis = 1)\n",
        "R_demeaned = R - user_ratings_mean.reshape(-1, 1)\n",
        "R_demeaned"
      ]
    },
    {
      "cell_type": "code",
      "execution_count": null,
      "metadata": {
        "id": "PbISC57jebal"
      },
      "outputs": [],
      "source": [
        "from scipy.sparse.linalg import svds\n",
        "U, sigma, Vt = svds(R_demeaned)"
      ]
    },
    {
      "cell_type": "code",
      "execution_count": null,
      "metadata": {
        "id": "M17loGV3ebal"
      },
      "outputs": [],
      "source": [
        "sigma = np.diag(sigma)\n"
      ]
    },
    {
      "cell_type": "code",
      "execution_count": null,
      "metadata": {
        "id": "kqQrCRPoebal",
        "outputId": "017844c2-f4df-4c6b-e572-19917c49cd98"
      },
      "outputs": [
        {
          "data": {
            "text/html": [
              "<div>\n",
              "<style scoped>\n",
              "    .dataframe tbody tr th:only-of-type {\n",
              "        vertical-align: middle;\n",
              "    }\n",
              "\n",
              "    .dataframe tbody tr th {\n",
              "        vertical-align: top;\n",
              "    }\n",
              "\n",
              "    .dataframe thead th {\n",
              "        text-align: right;\n",
              "    }\n",
              "</style>\n",
              "<table border=\"1\" class=\"dataframe\">\n",
              "  <thead>\n",
              "    <tr style=\"text-align: right;\">\n",
              "      <th>prod_ID</th>\n",
              "      <th>0972683275</th>\n",
              "      <th>1400501466</th>\n",
              "      <th>1400501520</th>\n",
              "      <th>1400501776</th>\n",
              "      <th>1400532620</th>\n",
              "      <th>1400532655</th>\n",
              "      <th>140053271X</th>\n",
              "      <th>1400599997</th>\n",
              "      <th>1400698987</th>\n",
              "      <th>3744295508</th>\n",
              "      <th>...</th>\n",
              "      <th>B00JTI4X3E</th>\n",
              "      <th>B00JX1ZS5O</th>\n",
              "      <th>B00K0OBEE2</th>\n",
              "      <th>B00K4VQZCM</th>\n",
              "      <th>B00K7O2DJU</th>\n",
              "      <th>B00K91DB7Y</th>\n",
              "      <th>B00KFAGCUM</th>\n",
              "      <th>B00KINSDK8</th>\n",
              "      <th>B00KWHMR6G</th>\n",
              "      <th>B00L3YHF6O</th>\n",
              "    </tr>\n",
              "    <tr>\n",
              "      <th>userID</th>\n",
              "      <th></th>\n",
              "      <th></th>\n",
              "      <th></th>\n",
              "      <th></th>\n",
              "      <th></th>\n",
              "      <th></th>\n",
              "      <th></th>\n",
              "      <th></th>\n",
              "      <th></th>\n",
              "      <th></th>\n",
              "      <th></th>\n",
              "      <th></th>\n",
              "      <th></th>\n",
              "      <th></th>\n",
              "      <th></th>\n",
              "      <th></th>\n",
              "      <th></th>\n",
              "      <th></th>\n",
              "      <th></th>\n",
              "      <th></th>\n",
              "      <th></th>\n",
              "    </tr>\n",
              "  </thead>\n",
              "  <tbody>\n",
              "    <tr>\n",
              "      <th>A100UD67AHFODS</th>\n",
              "      <td>0.015423</td>\n",
              "      <td>0.011009</td>\n",
              "      <td>0.013081</td>\n",
              "      <td>0.016089</td>\n",
              "      <td>0.011947</td>\n",
              "      <td>0.018877</td>\n",
              "      <td>0.012717</td>\n",
              "      <td>0.007655</td>\n",
              "      <td>0.013124</td>\n",
              "      <td>0.011771</td>\n",
              "      <td>...</td>\n",
              "      <td>0.009765</td>\n",
              "      <td>0.393998</td>\n",
              "      <td>0.034516</td>\n",
              "      <td>0.050864</td>\n",
              "      <td>0.013123</td>\n",
              "      <td>0.045171</td>\n",
              "      <td>0.000450</td>\n",
              "      <td>0.061026</td>\n",
              "      <td>0.008367</td>\n",
              "      <td>0.362923</td>\n",
              "    </tr>\n",
              "    <tr>\n",
              "      <th>A100WO06OQR8BQ</th>\n",
              "      <td>0.024796</td>\n",
              "      <td>0.006530</td>\n",
              "      <td>-0.001214</td>\n",
              "      <td>0.012578</td>\n",
              "      <td>-0.000154</td>\n",
              "      <td>0.005729</td>\n",
              "      <td>-0.001113</td>\n",
              "      <td>0.007468</td>\n",
              "      <td>0.003846</td>\n",
              "      <td>-0.001871</td>\n",
              "      <td>...</td>\n",
              "      <td>-0.001331</td>\n",
              "      <td>0.077428</td>\n",
              "      <td>-0.002063</td>\n",
              "      <td>0.015925</td>\n",
              "      <td>0.021663</td>\n",
              "      <td>0.244201</td>\n",
              "      <td>0.078147</td>\n",
              "      <td>-0.006486</td>\n",
              "      <td>0.006921</td>\n",
              "      <td>0.172743</td>\n",
              "    </tr>\n",
              "    <tr>\n",
              "      <th>A105S56ODHGJEK</th>\n",
              "      <td>-0.003408</td>\n",
              "      <td>0.001779</td>\n",
              "      <td>-0.002836</td>\n",
              "      <td>0.002212</td>\n",
              "      <td>-0.000092</td>\n",
              "      <td>-0.006465</td>\n",
              "      <td>-0.002632</td>\n",
              "      <td>0.008081</td>\n",
              "      <td>-0.001386</td>\n",
              "      <td>-0.002772</td>\n",
              "      <td>...</td>\n",
              "      <td>-0.001007</td>\n",
              "      <td>-0.043161</td>\n",
              "      <td>0.006384</td>\n",
              "      <td>0.015014</td>\n",
              "      <td>0.015221</td>\n",
              "      <td>0.224464</td>\n",
              "      <td>0.063182</td>\n",
              "      <td>0.003796</td>\n",
              "      <td>0.003310</td>\n",
              "      <td>0.024768</td>\n",
              "    </tr>\n",
              "    <tr>\n",
              "      <th>A105TOJ6LTVMBG</th>\n",
              "      <td>0.015205</td>\n",
              "      <td>0.008016</td>\n",
              "      <td>0.007105</td>\n",
              "      <td>0.008773</td>\n",
              "      <td>0.004356</td>\n",
              "      <td>0.012288</td>\n",
              "      <td>0.006753</td>\n",
              "      <td>0.004501</td>\n",
              "      <td>0.010781</td>\n",
              "      <td>0.006014</td>\n",
              "      <td>...</td>\n",
              "      <td>0.004625</td>\n",
              "      <td>0.005234</td>\n",
              "      <td>-0.003433</td>\n",
              "      <td>0.005988</td>\n",
              "      <td>0.008871</td>\n",
              "      <td>-0.017516</td>\n",
              "      <td>0.014102</td>\n",
              "      <td>-0.003865</td>\n",
              "      <td>0.006301</td>\n",
              "      <td>0.023960</td>\n",
              "    </tr>\n",
              "    <tr>\n",
              "      <th>A10AFVU66A79Y1</th>\n",
              "      <td>0.009980</td>\n",
              "      <td>0.006588</td>\n",
              "      <td>0.002785</td>\n",
              "      <td>0.009932</td>\n",
              "      <td>0.003707</td>\n",
              "      <td>0.004818</td>\n",
              "      <td>0.002853</td>\n",
              "      <td>0.008817</td>\n",
              "      <td>0.003796</td>\n",
              "      <td>0.002749</td>\n",
              "      <td>...</td>\n",
              "      <td>0.003077</td>\n",
              "      <td>-0.007986</td>\n",
              "      <td>0.001601</td>\n",
              "      <td>0.005722</td>\n",
              "      <td>0.013716</td>\n",
              "      <td>0.123540</td>\n",
              "      <td>0.032900</td>\n",
              "      <td>0.000953</td>\n",
              "      <td>0.007231</td>\n",
              "      <td>0.045863</td>\n",
              "    </tr>\n",
              "  </tbody>\n",
              "</table>\n",
              "<p>5 rows × 16250 columns</p>\n",
              "</div>"
            ],
            "text/plain": [
              "prod_ID         0972683275  1400501466  1400501520  1400501776  1400532620  \\\n",
              "userID                                                                       \n",
              "A100UD67AHFODS    0.015423    0.011009    0.013081    0.016089    0.011947   \n",
              "A100WO06OQR8BQ    0.024796    0.006530   -0.001214    0.012578   -0.000154   \n",
              "A105S56ODHGJEK   -0.003408    0.001779   -0.002836    0.002212   -0.000092   \n",
              "A105TOJ6LTVMBG    0.015205    0.008016    0.007105    0.008773    0.004356   \n",
              "A10AFVU66A79Y1    0.009980    0.006588    0.002785    0.009932    0.003707   \n",
              "\n",
              "prod_ID         1400532655  140053271X  1400599997  1400698987  3744295508  \\\n",
              "userID                                                                       \n",
              "A100UD67AHFODS    0.018877    0.012717    0.007655    0.013124    0.011771   \n",
              "A100WO06OQR8BQ    0.005729   -0.001113    0.007468    0.003846   -0.001871   \n",
              "A105S56ODHGJEK   -0.006465   -0.002632    0.008081   -0.001386   -0.002772   \n",
              "A105TOJ6LTVMBG    0.012288    0.006753    0.004501    0.010781    0.006014   \n",
              "A10AFVU66A79Y1    0.004818    0.002853    0.008817    0.003796    0.002749   \n",
              "\n",
              "prod_ID         ...  B00JTI4X3E  B00JX1ZS5O  B00K0OBEE2  B00K4VQZCM  \\\n",
              "userID          ...                                                   \n",
              "A100UD67AHFODS  ...    0.009765    0.393998    0.034516    0.050864   \n",
              "A100WO06OQR8BQ  ...   -0.001331    0.077428   -0.002063    0.015925   \n",
              "A105S56ODHGJEK  ...   -0.001007   -0.043161    0.006384    0.015014   \n",
              "A105TOJ6LTVMBG  ...    0.004625    0.005234   -0.003433    0.005988   \n",
              "A10AFVU66A79Y1  ...    0.003077   -0.007986    0.001601    0.005722   \n",
              "\n",
              "prod_ID         B00K7O2DJU  B00K91DB7Y  B00KFAGCUM  B00KINSDK8  B00KWHMR6G  \\\n",
              "userID                                                                       \n",
              "A100UD67AHFODS    0.013123    0.045171    0.000450    0.061026    0.008367   \n",
              "A100WO06OQR8BQ    0.021663    0.244201    0.078147   -0.006486    0.006921   \n",
              "A105S56ODHGJEK    0.015221    0.224464    0.063182    0.003796    0.003310   \n",
              "A105TOJ6LTVMBG    0.008871   -0.017516    0.014102   -0.003865    0.006301   \n",
              "A10AFVU66A79Y1    0.013716    0.123540    0.032900    0.000953    0.007231   \n",
              "\n",
              "prod_ID         B00L3YHF6O  \n",
              "userID                      \n",
              "A100UD67AHFODS    0.362923  \n",
              "A100WO06OQR8BQ    0.172743  \n",
              "A105S56ODHGJEK    0.024768  \n",
              "A105TOJ6LTVMBG    0.023960  \n",
              "A10AFVU66A79Y1    0.045863  \n",
              "\n",
              "[5 rows x 16250 columns]"
            ]
          },
          "execution_count": 97,
          "metadata": {},
          "output_type": "execute_result"
        }
      ],
      "source": [
        "all_user_predicted_ratings = np.dot(np.dot(U, sigma), Vt) + user_ratings_mean.reshape(-1, 1)\n",
        "preds_df = pd.DataFrame(all_user_predicted_ratings, columns = df_clean_matrix.columns)\n",
        "preds_df['userID'] = users_df\n",
        "preds_df.set_index('userID', inplace=True)\n",
        "preds_df.head()"
      ]
    },
    {
      "cell_type": "code",
      "execution_count": null,
      "metadata": {
        "id": "q5_Xf8tvebal",
        "outputId": "b48c6012-3b2c-4cb7-a9d1-270e3b68a91f"
      },
      "outputs": [
        {
          "data": {
            "text/plain": [
              "(1438, 16250)"
            ]
          },
          "execution_count": 98,
          "metadata": {},
          "output_type": "execute_result"
        }
      ],
      "source": [
        "preds_df.shape\n"
      ]
    },
    {
      "cell_type": "code",
      "execution_count": null,
      "metadata": {
        "id": "3o_R4WEYebal"
      },
      "outputs": [],
      "source": [
        "def recommend_it(predictions_df, itm_df, original_ratings_df, num_recommendations=10,ruserId='A100UD67AHFODS'):\n",
        "    \n",
        "    # Get and sort the user's predictions\n",
        "    sorted_user_predictions = predictions_df.loc[ruserId].sort_values(ascending=False)\n",
        "    \n",
        "    # Get the user's data and merge in the item information.\n",
        "    user_data = original_ratings_df[original_ratings_df.userID == ruserId]\n",
        "    user_full = (user_data.merge(itm_df, how = 'left', left_on = 'prod_ID', right_on = 'prod_ID').\n",
        "                     sort_values(['rating'], ascending=False)\n",
        "                 )\n",
        "\n",
        "    print ('User {0} has already purchased {1} items.'.format(ruserId, user_full.shape[0]))\n",
        "    print ('Recommending the highest {0} predicted  items not already purchased.'.format(num_recommendations))\n",
        "    \n",
        "    # Recommend the highest predicted rating items that the user hasn't bought yet.\n",
        "    recommendations = (itm_df[~itm_df['prod_ID'].isin(user_full['prod_ID'])].\n",
        "         merge(pd.DataFrame(sorted_user_predictions).reset_index(), how = 'left',\n",
        "               left_on = 'prod_ID',\n",
        "               right_on = 'prod_ID').\n",
        "         rename(columns = {ruserId: 'Predictions'}).\n",
        "         sort_values('Predictions', ascending = False).\n",
        "                       iloc[:num_recommendations, :-1]\n",
        "                      )\n",
        "    topk=recommendations.merge(original_ratings_df,left_index = True, right_on = 'prod_ID',left_on='prod_ID').drop_duplicates(\n",
        "    ['prod_ID', 'prod_name'])[['prod_ID', 'prod_name']]\n",
        "\n",
        "    return topk"
      ]
    },
    {
      "cell_type": "code",
      "execution_count": null,
      "metadata": {
        "id": "WidGSug-ebal",
        "outputId": "c0e91e5d-b4d9-4802-90e6-0fe2f3b02af6"
      },
      "outputs": [
        {
          "name": "stdout",
          "output_type": "stream",
          "text": [
            "User A100UD67AHFODS has already purchased 85 items.\n",
            "Recommending the highest 5 predicted  items not already purchased.\n"
          ]
        },
        {
          "data": {
            "text/html": [
              "<div>\n",
              "<style scoped>\n",
              "    .dataframe tbody tr th:only-of-type {\n",
              "        vertical-align: middle;\n",
              "    }\n",
              "\n",
              "    .dataframe tbody tr th {\n",
              "        vertical-align: top;\n",
              "    }\n",
              "\n",
              "    .dataframe thead th {\n",
              "        text-align: right;\n",
              "    }\n",
              "</style>\n",
              "<table border=\"1\" class=\"dataframe\">\n",
              "  <thead>\n",
              "    <tr style=\"text-align: right;\">\n",
              "      <th></th>\n",
              "      <th>prod_ID</th>\n",
              "      <th>prod_name</th>\n",
              "    </tr>\n",
              "  </thead>\n",
              "  <tbody>\n",
              "    <tr>\n",
              "      <th>29131</th>\n",
              "      <td>B00G4UQ6U8</td>\n",
              "      <td>Brainwavz S1 In Ear Headphones</td>\n",
              "    </tr>\n",
              "    <tr>\n",
              "      <th>7834</th>\n",
              "      <td>B007OY5V68</td>\n",
              "      <td>NEW AYL&amp;reg; Portable Mini Speaker System with...</td>\n",
              "    </tr>\n",
              "    <tr>\n",
              "      <th>10755</th>\n",
              "      <td>B00FSA8VQ2</td>\n",
              "      <td>Brainwavz Delta IEM Earphones</td>\n",
              "    </tr>\n",
              "    <tr>\n",
              "      <th>3596</th>\n",
              "      <td>B003ES5ZUU</td>\n",
              "      <td>AmazonBasics High-Speed HDMI Cable - 15 Feet (...</td>\n",
              "    </tr>\n",
              "    <tr>\n",
              "      <th>25798</th>\n",
              "      <td>B00DTZYHX4</td>\n",
              "      <td>Bolse&amp;reg; 300Mbps Wifi Wireless-N USB Micro M...</td>\n",
              "    </tr>\n",
              "  </tbody>\n",
              "</table>\n",
              "</div>"
            ],
            "text/plain": [
              "          prod_ID                                          prod_name\n",
              "29131  B00G4UQ6U8                     Brainwavz S1 In Ear Headphones\n",
              "7834   B007OY5V68  NEW AYL&reg; Portable Mini Speaker System with...\n",
              "10755  B00FSA8VQ2                      Brainwavz Delta IEM Earphones\n",
              "3596   B003ES5ZUU  AmazonBasics High-Speed HDMI Cable - 15 Feet (...\n",
              "25798  B00DTZYHX4  Bolse&reg; 300Mbps Wifi Wireless-N USB Micro M..."
            ]
          },
          "execution_count": 100,
          "metadata": {},
          "output_type": "execute_result"
        }
      ],
      "source": [
        "recommend_it(preds_df, items_df, df1, 5)\n"
      ]
    },
    {
      "cell_type": "code",
      "execution_count": null,
      "metadata": {
        "id": "sU1BmOIzebal",
        "outputId": "fd6f1204-ef0d-4a42-ed62-4555955dcb21"
      },
      "outputs": [
        {
          "name": "stdout",
          "output_type": "stream",
          "text": [
            "User A100WO06OQR8BQ has already purchased 91 items.\n",
            "Recommending the highest 5 predicted  items not already purchased.\n"
          ]
        },
        {
          "data": {
            "text/html": [
              "<div>\n",
              "<style scoped>\n",
              "    .dataframe tbody tr th:only-of-type {\n",
              "        vertical-align: middle;\n",
              "    }\n",
              "\n",
              "    .dataframe tbody tr th {\n",
              "        vertical-align: top;\n",
              "    }\n",
              "\n",
              "    .dataframe thead th {\n",
              "        text-align: right;\n",
              "    }\n",
              "</style>\n",
              "<table border=\"1\" class=\"dataframe\">\n",
              "  <thead>\n",
              "    <tr style=\"text-align: right;\">\n",
              "      <th></th>\n",
              "      <th>prod_ID</th>\n",
              "      <th>prod_name</th>\n",
              "    </tr>\n",
              "  </thead>\n",
              "  <tbody>\n",
              "    <tr>\n",
              "      <th>11745</th>\n",
              "      <td>B004CLYEDC</td>\n",
              "      <td>Micra Digital CAT5e Snagless Patch Cable, 5 Fe...</td>\n",
              "    </tr>\n",
              "    <tr>\n",
              "      <th>5649</th>\n",
              "      <td>B000N99BBC</td>\n",
              "      <td>TP-LINK TL-SG1005D 10/100/1000Mbps 5-Port Giga...</td>\n",
              "    </tr>\n",
              "    <tr>\n",
              "      <th>5012</th>\n",
              "      <td>B004CLYEFK</td>\n",
              "      <td>Micra Digital USB A to USB B Cable (6 Feet)</td>\n",
              "    </tr>\n",
              "    <tr>\n",
              "      <th>1169</th>\n",
              "      <td>B00829THK0</td>\n",
              "      <td>Seagate Backup Plus 1TB Desktop External Hard ...</td>\n",
              "    </tr>\n",
              "    <tr>\n",
              "      <th>656</th>\n",
              "      <td>B00834SJSK</td>\n",
              "      <td>Seagate Expansion 500GB Portable External Hard...</td>\n",
              "    </tr>\n",
              "  </tbody>\n",
              "</table>\n",
              "</div>"
            ],
            "text/plain": [
              "          prod_ID                                          prod_name\n",
              "11745  B004CLYEDC  Micra Digital CAT5e Snagless Patch Cable, 5 Fe...\n",
              "5649   B000N99BBC  TP-LINK TL-SG1005D 10/100/1000Mbps 5-Port Giga...\n",
              "5012   B004CLYEFK        Micra Digital USB A to USB B Cable (6 Feet)\n",
              "1169   B00829THK0  Seagate Backup Plus 1TB Desktop External Hard ...\n",
              "656    B00834SJSK  Seagate Expansion 500GB Portable External Hard..."
            ]
          },
          "execution_count": 101,
          "metadata": {},
          "output_type": "execute_result"
        }
      ],
      "source": [
        "recommend_it(preds_df, items_df, df1, 5,'A100WO06OQR8BQ')\n"
      ]
    }
  ],
  "metadata": {
    "hide_input": false,
    "kernelspec": {
      "display_name": "Python 3",
      "language": "python",
      "name": "python3"
    },
    "language_info": {
      "codemirror_mode": {
        "name": "ipython",
        "version": 3
      },
      "file_extension": ".py",
      "mimetype": "text/x-python",
      "name": "python",
      "nbconvert_exporter": "python",
      "pygments_lexer": "ipython3",
      "version": "3.7.3"
    },
    "toc": {
      "base_numbering": 1,
      "nav_menu": {},
      "number_sections": true,
      "sideBar": true,
      "skip_h1_title": false,
      "title_cell": "Table of Contents",
      "title_sidebar": "Contents",
      "toc_cell": false,
      "toc_position": {},
      "toc_section_display": true,
      "toc_window_display": false
    },
    "varInspector": {
      "cols": {
        "lenName": 16,
        "lenType": 16,
        "lenVar": 40
      },
      "kernels_config": {
        "python": {
          "delete_cmd_postfix": "",
          "delete_cmd_prefix": "del ",
          "library": "var_list.py",
          "varRefreshCmd": "print(var_dic_list())"
        },
        "r": {
          "delete_cmd_postfix": ") ",
          "delete_cmd_prefix": "rm(",
          "library": "var_list.r",
          "varRefreshCmd": "cat(var_dic_list()) "
        }
      },
      "types_to_exclude": [
        "module",
        "function",
        "builtin_function_or_method",
        "instance",
        "_Feature"
      ],
      "window_display": false
    },
    "colab": {
      "provenance": [],
      "include_colab_link": true
    }
  },
  "nbformat": 4,
  "nbformat_minor": 0
}